{
  "nbformat": 4,
  "nbformat_minor": 0,
  "metadata": {
    "colab": {
      "provenance": [],
      "authorship_tag": "ABX9TyO7UJN0bXv0Wo3SwBzriTXI",
      "include_colab_link": true
    },
    "kernelspec": {
      "name": "python3",
      "display_name": "Python 3"
    },
    "language_info": {
      "name": "python"
    }
  },
  "cells": [
    {
      "cell_type": "markdown",
      "metadata": {
        "id": "view-in-github",
        "colab_type": "text"
      },
      "source": [
        "<a href=\"https://colab.research.google.com/github/kiranfranklin999/Exploring_QSAR_from_data_curation_to_SAR/blob/main/model/Simple_FNN_QSAR.ipynb\" target=\"_parent\"><img src=\"https://colab.research.google.com/assets/colab-badge.svg\" alt=\"Open In Colab\"/></a>"
      ]
    },
    {
      "cell_type": "code",
      "execution_count": 1,
      "metadata": {
        "id": "JhVU_M0tEN2L"
      },
      "outputs": [],
      "source": [
        "import numpy as np\n",
        "import pandas as pd\n",
        "import matplotlib.pyplot as plt\n",
        "import tensorflow as tf\n",
        "from sklearn.preprocessing import StandardScaler\n",
        "from sklearn.model_selection import train_test_split"
      ]
    },
    {
      "cell_type": "code",
      "source": [
        "data = pd.read_csv(\"/content/Chembl_pIC50_maccs.csv\")\n",
        "data.head(1)"
      ],
      "metadata": {
        "colab": {
          "base_uri": "https://localhost:8080/",
          "height": 110
        },
        "id": "SBMeg3tOFCkn",
        "outputId": "2b24aee5-6d65-412e-b128-eba223d89b98"
      },
      "execution_count": 2,
      "outputs": [
        {
          "output_type": "execute_result",
          "data": {
            "text/plain": [
              "                                      SMILES    pIC50    0    1    2    3  \\\n",
              "0  CC12CCC(C1)C(C)(C)C2NS(=O)(=O)c1ccc(F)cc1  5.30103  0.0  0.0  0.0  0.0   \n",
              "\n",
              "     4    5    6    7  ...  157  158  159  160  161  162  163  164  165  166  \n",
              "0  0.0  0.0  0.0  0.0  ...  0.0  1.0  1.0  1.0  1.0  1.0  1.0  1.0  1.0  0.0  \n",
              "\n",
              "[1 rows x 169 columns]"
            ],
            "text/html": [
              "\n",
              "  <div id=\"df-7fcfaca9-5661-4a08-9cbd-1a0321c7a2c9\">\n",
              "    <div class=\"colab-df-container\">\n",
              "      <div>\n",
              "<style scoped>\n",
              "    .dataframe tbody tr th:only-of-type {\n",
              "        vertical-align: middle;\n",
              "    }\n",
              "\n",
              "    .dataframe tbody tr th {\n",
              "        vertical-align: top;\n",
              "    }\n",
              "\n",
              "    .dataframe thead th {\n",
              "        text-align: right;\n",
              "    }\n",
              "</style>\n",
              "<table border=\"1\" class=\"dataframe\">\n",
              "  <thead>\n",
              "    <tr style=\"text-align: right;\">\n",
              "      <th></th>\n",
              "      <th>SMILES</th>\n",
              "      <th>pIC50</th>\n",
              "      <th>0</th>\n",
              "      <th>1</th>\n",
              "      <th>2</th>\n",
              "      <th>3</th>\n",
              "      <th>4</th>\n",
              "      <th>5</th>\n",
              "      <th>6</th>\n",
              "      <th>7</th>\n",
              "      <th>...</th>\n",
              "      <th>157</th>\n",
              "      <th>158</th>\n",
              "      <th>159</th>\n",
              "      <th>160</th>\n",
              "      <th>161</th>\n",
              "      <th>162</th>\n",
              "      <th>163</th>\n",
              "      <th>164</th>\n",
              "      <th>165</th>\n",
              "      <th>166</th>\n",
              "    </tr>\n",
              "  </thead>\n",
              "  <tbody>\n",
              "    <tr>\n",
              "      <th>0</th>\n",
              "      <td>CC12CCC(C1)C(C)(C)C2NS(=O)(=O)c1ccc(F)cc1</td>\n",
              "      <td>5.30103</td>\n",
              "      <td>0.0</td>\n",
              "      <td>0.0</td>\n",
              "      <td>0.0</td>\n",
              "      <td>0.0</td>\n",
              "      <td>0.0</td>\n",
              "      <td>0.0</td>\n",
              "      <td>0.0</td>\n",
              "      <td>0.0</td>\n",
              "      <td>...</td>\n",
              "      <td>0.0</td>\n",
              "      <td>1.0</td>\n",
              "      <td>1.0</td>\n",
              "      <td>1.0</td>\n",
              "      <td>1.0</td>\n",
              "      <td>1.0</td>\n",
              "      <td>1.0</td>\n",
              "      <td>1.0</td>\n",
              "      <td>1.0</td>\n",
              "      <td>0.0</td>\n",
              "    </tr>\n",
              "  </tbody>\n",
              "</table>\n",
              "<p>1 rows × 169 columns</p>\n",
              "</div>\n",
              "      <button class=\"colab-df-convert\" onclick=\"convertToInteractive('df-7fcfaca9-5661-4a08-9cbd-1a0321c7a2c9')\"\n",
              "              title=\"Convert this dataframe to an interactive table.\"\n",
              "              style=\"display:none;\">\n",
              "        \n",
              "  <svg xmlns=\"http://www.w3.org/2000/svg\" height=\"24px\"viewBox=\"0 0 24 24\"\n",
              "       width=\"24px\">\n",
              "    <path d=\"M0 0h24v24H0V0z\" fill=\"none\"/>\n",
              "    <path d=\"M18.56 5.44l.94 2.06.94-2.06 2.06-.94-2.06-.94-.94-2.06-.94 2.06-2.06.94zm-11 1L8.5 8.5l.94-2.06 2.06-.94-2.06-.94L8.5 2.5l-.94 2.06-2.06.94zm10 10l.94 2.06.94-2.06 2.06-.94-2.06-.94-.94-2.06-.94 2.06-2.06.94z\"/><path d=\"M17.41 7.96l-1.37-1.37c-.4-.4-.92-.59-1.43-.59-.52 0-1.04.2-1.43.59L10.3 9.45l-7.72 7.72c-.78.78-.78 2.05 0 2.83L4 21.41c.39.39.9.59 1.41.59.51 0 1.02-.2 1.41-.59l7.78-7.78 2.81-2.81c.8-.78.8-2.07 0-2.86zM5.41 20L4 18.59l7.72-7.72 1.47 1.35L5.41 20z\"/>\n",
              "  </svg>\n",
              "      </button>\n",
              "      \n",
              "  <style>\n",
              "    .colab-df-container {\n",
              "      display:flex;\n",
              "      flex-wrap:wrap;\n",
              "      gap: 12px;\n",
              "    }\n",
              "\n",
              "    .colab-df-convert {\n",
              "      background-color: #E8F0FE;\n",
              "      border: none;\n",
              "      border-radius: 50%;\n",
              "      cursor: pointer;\n",
              "      display: none;\n",
              "      fill: #1967D2;\n",
              "      height: 32px;\n",
              "      padding: 0 0 0 0;\n",
              "      width: 32px;\n",
              "    }\n",
              "\n",
              "    .colab-df-convert:hover {\n",
              "      background-color: #E2EBFA;\n",
              "      box-shadow: 0px 1px 2px rgba(60, 64, 67, 0.3), 0px 1px 3px 1px rgba(60, 64, 67, 0.15);\n",
              "      fill: #174EA6;\n",
              "    }\n",
              "\n",
              "    [theme=dark] .colab-df-convert {\n",
              "      background-color: #3B4455;\n",
              "      fill: #D2E3FC;\n",
              "    }\n",
              "\n",
              "    [theme=dark] .colab-df-convert:hover {\n",
              "      background-color: #434B5C;\n",
              "      box-shadow: 0px 1px 3px 1px rgba(0, 0, 0, 0.15);\n",
              "      filter: drop-shadow(0px 1px 2px rgba(0, 0, 0, 0.3));\n",
              "      fill: #FFFFFF;\n",
              "    }\n",
              "  </style>\n",
              "\n",
              "      <script>\n",
              "        const buttonEl =\n",
              "          document.querySelector('#df-7fcfaca9-5661-4a08-9cbd-1a0321c7a2c9 button.colab-df-convert');\n",
              "        buttonEl.style.display =\n",
              "          google.colab.kernel.accessAllowed ? 'block' : 'none';\n",
              "\n",
              "        async function convertToInteractive(key) {\n",
              "          const element = document.querySelector('#df-7fcfaca9-5661-4a08-9cbd-1a0321c7a2c9');\n",
              "          const dataTable =\n",
              "            await google.colab.kernel.invokeFunction('convertToInteractive',\n",
              "                                                     [key], {});\n",
              "          if (!dataTable) return;\n",
              "\n",
              "          const docLinkHtml = 'Like what you see? Visit the ' +\n",
              "            '<a target=\"_blank\" href=https://colab.research.google.com/notebooks/data_table.ipynb>data table notebook</a>'\n",
              "            + ' to learn more about interactive tables.';\n",
              "          element.innerHTML = '';\n",
              "          dataTable['output_type'] = 'display_data';\n",
              "          await google.colab.output.renderOutput(dataTable, element);\n",
              "          const docLink = document.createElement('div');\n",
              "          docLink.innerHTML = docLinkHtml;\n",
              "          element.appendChild(docLink);\n",
              "        }\n",
              "      </script>\n",
              "    </div>\n",
              "  </div>\n",
              "  "
            ]
          },
          "metadata": {},
          "execution_count": 2
        }
      ]
    },
    {
      "cell_type": "code",
      "source": [
        "X=data.drop(['SMILES','pIC50'],axis=1)\n",
        "y=data['pIC50']\n",
        "X.shape,y.shape"
      ],
      "metadata": {
        "colab": {
          "base_uri": "https://localhost:8080/"
        },
        "id": "FRkJYUNGGvmL",
        "outputId": "e433e203-a512-49ec-a23f-d13c8cec2fca"
      },
      "execution_count": 3,
      "outputs": [
        {
          "output_type": "execute_result",
          "data": {
            "text/plain": [
              "((1130, 167), (1130,))"
            ]
          },
          "metadata": {},
          "execution_count": 3
        }
      ]
    },
    {
      "cell_type": "code",
      "source": [
        "X_train, X_test, y_train, y_test = train_test_split(X, y,  test_size=0.20, random_state=42)\n",
        "X_train, X_validation, y_train, y_validation = train_test_split(X_train, y_train,  test_size=0.10, random_state=42)"
      ],
      "metadata": {
        "id": "-3GFajtmHMAx"
      },
      "execution_count": 7,
      "outputs": []
    },
    {
      "cell_type": "code",
      "source": [
        "X_train.shape,X_validation.shape,X_test.shape"
      ],
      "metadata": {
        "colab": {
          "base_uri": "https://localhost:8080/"
        },
        "id": "j1vIQtBPHWuR",
        "outputId": "80d6e7e2-b78d-4700-f256-4c17f17c8805"
      },
      "execution_count": 8,
      "outputs": [
        {
          "output_type": "execute_result",
          "data": {
            "text/plain": [
              "((813, 167), (91, 167), (226, 167))"
            ]
          },
          "metadata": {},
          "execution_count": 8
        }
      ]
    },
    {
      "cell_type": "code",
      "source": [
        "from sklearn.feature_selection import VarianceThreshold\n",
        "feature_select = VarianceThreshold(threshold=0.05)\n",
        "X_train = feature_select.fit_transform(X_train)\n",
        "X_validation = feature_select.transform(X_validation)\n",
        "X_test = feature_select.transform(X_test)\n",
        "X_train.shape,X_validation.shape,X_test.shape"
      ],
      "metadata": {
        "colab": {
          "base_uri": "https://localhost:8080/"
        },
        "id": "kairQpN7HbN-",
        "outputId": "e50599ea-ac56-4873-cba4-1f831f41a787"
      },
      "execution_count": 9,
      "outputs": [
        {
          "output_type": "execute_result",
          "data": {
            "text/plain": [
              "((813, 113), (91, 113), (226, 113))"
            ]
          },
          "metadata": {},
          "execution_count": 9
        }
      ]
    },
    {
      "cell_type": "code",
      "source": [
        "type(X_train)"
      ],
      "metadata": {
        "colab": {
          "base_uri": "https://localhost:8080/"
        },
        "id": "RQ0x91yKIjLt",
        "outputId": "3af9918b-33bf-40e8-a83f-de365b7651dd"
      },
      "execution_count": 10,
      "outputs": [
        {
          "output_type": "execute_result",
          "data": {
            "text/plain": [
              "numpy.ndarray"
            ]
          },
          "metadata": {},
          "execution_count": 10
        }
      ]
    },
    {
      "cell_type": "code",
      "source": [
        "import tensorflow as tf\n",
        "\n",
        "# Check for GPU availability\n",
        "device = tf.device(\"GPU:0\" if tf.config.list_physical_devices(\"GPU\") else \"CPU\")\n",
        "print(device)\n",
        "\n",
        "# Convert arrays to tensors\n",
        "X_train = tf.convert_to_tensor(X_train, dtype=tf.float32)\n",
        "X_test = tf.convert_to_tensor(X_test, dtype=tf.float32)\n",
        "X_validation = tf.convert_to_tensor(X_validation, dtype=tf.float32)\n",
        "y_train = tf.convert_to_tensor(y_train, dtype=tf.float32)\n",
        "y_test = tf.convert_to_tensor(y_test, dtype=tf.float32)\n",
        "y_validation = tf.convert_to_tensor(y_validation, dtype=tf.float32)\n",
        "\n",
        "# Create TensorFlow datasets\n",
        "train_dataset = tf.data.Dataset.from_tensor_slices((X_train, y_train))\n",
        "validation_dataset = tf.data.Dataset.from_tensor_slices((X_validation, y_validation))\n",
        "\n"
      ],
      "metadata": {
        "id": "ltFE8P7fH41A"
      },
      "execution_count": null,
      "outputs": []
    },
    {
      "cell_type": "code",
      "source": [
        "X_train,X_test,X_validation"
      ],
      "metadata": {
        "colab": {
          "base_uri": "https://localhost:8080/"
        },
        "id": "7apa0e7QJzsE",
        "outputId": "b0f7ca49-da9f-43f7-8778-347ce31436c7"
      },
      "execution_count": 17,
      "outputs": [
        {
          "output_type": "execute_result",
          "data": {
            "text/plain": [
              "(<tf.Tensor: shape=(813, 113), dtype=float32, numpy=\n",
              " array([[1., 0., 0., ..., 1., 1., 1.],\n",
              "        [0., 0., 1., ..., 1., 1., 0.],\n",
              "        [1., 0., 0., ..., 0., 0., 1.],\n",
              "        ...,\n",
              "        [0., 0., 0., ..., 0., 0., 1.],\n",
              "        [0., 0., 0., ..., 1., 1., 1.],\n",
              "        [0., 0., 0., ..., 0., 1., 1.]], dtype=float32)>,\n",
              " <tf.Tensor: shape=(226, 113), dtype=float32, numpy=\n",
              " array([[0., 0., 0., ..., 0., 0., 1.],\n",
              "        [0., 0., 0., ..., 1., 0., 1.],\n",
              "        [1., 0., 1., ..., 0., 1., 0.],\n",
              "        ...,\n",
              "        [0., 0., 0., ..., 1., 0., 1.],\n",
              "        [0., 0., 0., ..., 1., 1., 1.],\n",
              "        [0., 0., 1., ..., 0., 1., 1.]], dtype=float32)>,\n",
              " <tf.Tensor: shape=(91, 113), dtype=float32, numpy=\n",
              " array([[0., 0., 0., ..., 0., 1., 1.],\n",
              "        [1., 1., 0., ..., 1., 1., 1.],\n",
              "        [0., 0., 0., ..., 0., 1., 1.],\n",
              "        ...,\n",
              "        [0., 0., 0., ..., 1., 1., 1.],\n",
              "        [0., 0., 0., ..., 1., 1., 1.],\n",
              "        [0., 0., 0., ..., 1., 0., 1.]], dtype=float32)>)"
            ]
          },
          "metadata": {},
          "execution_count": 17
        }
      ]
    },
    {
      "cell_type": "code",
      "source": [
        "y_train,y_test,y_validation"
      ],
      "metadata": {
        "colab": {
          "base_uri": "https://localhost:8080/"
        },
        "id": "Yp0GqEZ4KwOy",
        "outputId": "b2154b76-e9e3-47f2-e5b4-73c0c1ca3640"
      },
      "execution_count": 22,
      "outputs": [
        {
          "output_type": "execute_result",
          "data": {
            "text/plain": [
              "(<tf.Tensor: shape=(813,), dtype=float32, numpy=\n",
              " array([9.09691  , 4.7988763, 3.954677 , 5.468521 , 5.6777806, 4.7525177,\n",
              "        6.5686364, 6.920819 , 7.3439016, 6.       , 5.387216 , 3.6556077,\n",
              "        4.5850267, 7.69897  , 7.455932 , 3.9713473, 8.69897  , 3.5228786,\n",
              "        4.6478176, 4.91364  , 7.5228786, 5.4145393, 6.7447276, 5.080922 ,\n",
              "        4.696804 , 4.609065 , 5.6382723, 5.309804 , 4.623423 , 5.8268137,\n",
              "        4.8728952, 4.8827286, 5.5228786, 5.008774 , 4.5850267, 4.       ,\n",
              "        6.221849 , 6.49485  , 6.221849 , 7.481486 , 4.7520266, 4.60206  ,\n",
              "        7.236572 , 8.045757 , 5.180456 , 4.973058 , 7.221849 , 6.006123 ,\n",
              "        8.455932 , 6.4012094, 4.9100947, 7.7695513, 4.8268137, 5.30103  ,\n",
              "        5.8961964, 5.6882463, 7.1109786, 6.5086384, 7.207608 , 8.79588  ,\n",
              "        5.8124795, 6.6655464, 4.387216 , 4.7851562, 7.7212462, 5.6575775,\n",
              "        4.0680337, 5.026872 , 6.8416376, 6.79588  , 5.       , 8.552842 ,\n",
              "        5.2276783, 3.8215988, 5.180456 , 8.619789 , 4.829738 , 6.6777806,\n",
              "        6.552842 , 8.2218485, 7.3565474, 4.25649  , 5.7447276, 5.09691  ,\n",
              "        4.9829664, 4.1739254, 7.236572 , 4.8728952, 5.7447276, 5.0222764,\n",
              "        4.3410354, 4.12436  , 7.49485  , 5.21467  , 5.124939 , 6.7447276,\n",
              "        4.3605137, 5.7212462, 4.686133 , 5.552842 , 4.8153086, 5.1325326,\n",
              "        8.522879 , 7.632644 , 7.7281585, 9.522879 , 4.2522   , 4.0181813,\n",
              "        8.19382  , 6.3467875, 7.1837587, 5.30103  , 7.7212462, 4.3925447,\n",
              "        4.89279  , 5.79588  , 4.337242 , 8.20066  , 5.264401 , 5.2006593,\n",
              "        5.004365 , 7.853872 , 6.9829664, 6.30103  , 4.727694 , 6.3279023,\n",
              "        5.39794  , 7.823909 , 7.008774 , 8.823909 , 3.8620448, 4.6161847,\n",
              "        5.318759 , 6.09691  , 7.5228786, 5.69897  , 6.2596374, 3.8112965,\n",
              "        5.229148 , 4.7612014, 5.493495 , 5.958607 , 5.2596374, 4.729321 ,\n",
              "        6.091515 , 3.8894103, 5.407823 , 4.       , 8.283997 , 6.69897  ,\n",
              "        8.161151 , 5.2676063, 4.736364 , 7.124939 , 3.3882766, 6.978811 ,\n",
              "        6.2596374, 7.3361106, 4.5686364, 3.827397 , 4.8204484, 4.537602 ,\n",
              "        4.8416376, 7.978811 , 7.7447276, 4.7380238, 3.8652174, 4.8268137,\n",
              "        5.7212462, 8.09691  , 4.8153086, 7.309804 , 5.481486 , 4.958607 ,\n",
              "        4.2890368, 4.696804 , 9.       , 5.4089355, 4.731656 , 7.636388 ,\n",
              "        8.075721 , 4.2027326, 5.412289 , 4.705313 , 6.4436975, 6.920819 ,\n",
              "        8.2218485, 8.09691  , 7.512296 , 4.6836104, 8.537602 , 4.2659206,\n",
              "        7.2855864, 5.455932 , 6.       , 9.1549015, 4.9829664, 5.6382723,\n",
              "        5.1985965, 5.4867826, 8.1549015, 5.337242 , 5.0824943, 6.7399287,\n",
              "        6.5734887, 5.1870866, 5.080922 , 5.309804 , 3.9430952, 4.       ,\n",
              "        6.09691  , 8.769551 , 5.6152883, 4.6516953, 6.7695513, 4.920819 ,\n",
              "        4.6382723, 4.924818 , 4.9469213, 5.376751 , 5.078834 , 5.920819 ,\n",
              "        6.3467875, 5.69897  , 5.590067 , 5.337242 , 5.3665314, 4.6161847,\n",
              "        8.585027 , 8.619789 , 6.7447276, 5.09691  , 8.638272 , 3.6777806,\n",
              "        4.74739  , 4.7113037, 4.7772837, 4.5228786, 7.6197886, 4.89279  ,\n",
              "        3.69897  , 6.09691  , 7.79588  , 6.236572 , 6.920819 , 6.1191864,\n",
              "        6.8632793, 6.       , 7.008774 , 5.1007266, 4.737312 , 4.6476245,\n",
              "        4.876148 , 3.6454499, 4.903785 , 5.958607 , 5.320572 , 8.30103  ,\n",
              "        5.7746906, 5.30103  , 7.6575775, 4.829738 , 8.       , 4.       ,\n",
              "        5.6655464, 5.0457573, 7.409381 , 7.3467875, 6.7447276, 5.79588  ,\n",
              "        5.4023046, 5.1307683, 3.827397 , 3.552842 , 5.3288274, 8.552842 ,\n",
              "        5.7695513, 5.958607 , 7.3085647, 4.2373214, 4.143271 , 4.552842 ,\n",
              "        8.39794  , 5.133713 , 5.0660067, 5.9871626, 4.879426 , 5.4436975,\n",
              "        4.8130436, 5.958607 , 4.692504 , 7.823909 , 5.5606675, 6.1870866,\n",
              "        5.075721 , 5.958607 , 4.8241982, 5.4134126, 5.5850267, 4.737549 ,\n",
              "        7.69897  , 5.7212462, 4.9746943, 4.151934 , 5.2620125, 5.013676 ,\n",
              "        4.484126 , 7.070581 , 4.763715 , 4.838632 , 8.39794  , 6.1687703,\n",
              "        7.180456 , 5.1001797, 4.53432  , 7.09691  , 5.087778 , 6.5086384,\n",
              "        5.070581 , 5.318759 , 5.102373 , 4.9914   , 5.194839 , 4.6609464,\n",
              "        5.3467875, 6.221849 , 4.5228786, 5.309804 , 4.6468534, 7.091515 ,\n",
              "        6.9914   , 5.468521 , 4.6382723, 9.09691  , 5.5086384, 4.773916 ,\n",
              "        4.8996296, 4.537602 , 5.69897  , 5.7721133, 7.221849 , 4.8477116,\n",
              "        8.721247 , 4.0319843, 4.4568014, 7.60206  , 5.7695513, 5.4828043,\n",
              "        4.273273 , 4.7235384, 7.856985 , 8.769551 , 4.7469044, 4.005287 ,\n",
              "        5.086186 , 5.1079054, 7.7695513, 7.7604504, 4.7675123, 3.7290883,\n",
              "        8.886057 , 4.186486 , 4.8207355, 7.958607 , 3.7759075, 7.       ,\n",
              "        5.1307683, 5.6777806, 4.738737 , 6.1870866, 5.4089355, 5.316053 ,\n",
              "        5.4412913, 5.3458233, 5.2335873, 6.7212462, 7.427593 , 7.79588  ,\n",
              "        5.703335 , 7.823909 , 7.49485  , 5.5157003, 7.5228786, 7.017729 ,\n",
              "        7.455932 , 5.087247 , 4.69897  , 6.3565474, 8.1549015, 6.2676063,\n",
              "        5.236572 , 5.4634414, 4.       , 5.5686364, 8.522879 , 5.0457573,\n",
              "        5.2090116, 5.0329204, 3.753994 , 6.221849 , 4.481486 , 5.60206  ,\n",
              "        5.017729 , 5.537602 , 5.8728952, 4.705534 , 6.       , 6.958607 ,\n",
              "        7.4881167, 5.935542 , 4.90309  , 6.9100947, 7.6575775, 4.8664613,\n",
              "        5.1079054, 7.1765256, 4.701147 , 7.647046 , 6.036212 , 7.036212 ,\n",
              "        5.5228786, 4.6777806, 4.8860564, 5.617983 , 6.1870866, 4.0163736,\n",
              "        7.337242 , 4.9956784, 4.7891464, 5.052566 , 7.       , 5.3565474,\n",
              "        7.3788238, 7.5686364, 8.022276 , 5.49485  , 4.6281934, 5.537602 ,\n",
              "        5.       , 5.5086384, 5.481486 , 4.692504 , 7.3467875, 7.236572 ,\n",
              "        5.4317985, 4.721933 , 6.546682 , 4.7508016, 5.537602 , 5.6777806,\n",
              "        7.2388244, 7.180456 , 5.5686364, 4.7483616, 4.207608 , 4.6777806,\n",
              "        6.8860564, 5.21467  , 5.7212462, 4.6777806, 7.9956784, 7.1307683,\n",
              "        3.8870935, 4.732828 , 5.1079054, 8.259637 , 5.853872 , 7.6575775,\n",
              "        5.0933957, 4.6716204, 4.4436975, 4.500313 , 6.958607 , 4.9698052,\n",
              "        5.6575775, 3.552842 , 5.387216 , 5.442493 , 7.7695513, 8.180456 ,\n",
              "        4.850781 , 5.5228786, 3.6872728, 4.457175 , 5.19382  , 6.4202166,\n",
              "        8.045757 , 4.124939 , 5.1101384, 6.0457573, 6.5686364, 5.4202166,\n",
              "        4.6197886, 4.4436975, 4.853872 , 5.30103  , 5.39794  , 5.2676063,\n",
              "        7.853872 , 5.203426 , 5.7695513, 8.070581 , 6.4202166, 4.74958  ,\n",
              "        7.5850267, 5.25649  , 8.522879 , 4.9625735, 5.236572 , 7.5686364,\n",
              "        4.3904057, 6.8181562, 7.1079054, 6.939302 , 4.9956784, 6.0457573,\n",
              "        5.309804 , 7.055517 , 7.920819 , 4.7584534, 5.309804 , 6.860121 ,\n",
              "        5.44855  , 7.251812 , 8.522879 , 9.       , 5.480172 , 4.473661 ,\n",
              "        4.9956784, 4.08402  , 4.701147 , 6.       , 8.346787 , 5.6382723,\n",
              "        4.546682 , 6.7695513, 8.39794  , 5.492144 , 4.143271 , 5.075721 ,\n",
              "        4.929962 , 8.       , 5.468521 , 7.09691  , 7.086186 , 7.6197886,\n",
              "        4.9817157, 5.1487417, 5.1366773, 7.49485  , 7.252899 , 5.5086384,\n",
              "        4.3514447, 7.60206  , 4.821023 , 6.853872 , 4.8860564, 7.312471 ,\n",
              "        5.552842 , 6.2839966, 5.6777806, 7.221849 , 5.3279023, 6.60206  ,\n",
              "        4.3467875, 6.7447276, 8.455932 , 5.8860564, 7.3279023, 7.49485  ,\n",
              "        5.075721 , 6.055517 , 5.7447276, 7.5686364, 6.5686364, 4.950782 ,\n",
              "        5.449772 , 5.1536627, 9.       , 6.6777806, 5.958607 , 7.       ,\n",
              "        9.       , 4.9863205, 5.1511955, 6.5228786, 6.221849 , 8.522879 ,\n",
              "        5.6382723, 6.031517 , 5.5100417, 6.958607 , 6.207608 , 7.860121 ,\n",
              "        4.709965 , 5.353596 , 6.055517 , 5.167491 , 4.376751 , 8.49485  ,\n",
              "        6.       , 5.0039263, 7.446117 , 8.130768 , 6.7544875, 5.498941 ,\n",
              "        5.4400935, 6.928118 , 8.39794  , 4.835647 , 4.5751185, 6.853872 ,\n",
              "        4.088523 , 4.026872 , 7.519993 , 5.30103  , 6.167491 , 8.455932 ,\n",
              "        4.113509 , 8.30103  , 3.09691  , 4.7851562, 5.2676063, 8.853872 ,\n",
              "        5.462181 , 4.7544875, 6.9065785, 5.167491 , 6.09691  , 7.7695513,\n",
              "        4.107516 , 4.685922 , 4.455932 , 4.8860564, 7.221849 , 7.552842 ,\n",
              "        4.455932 , 5.278189 , 4.8632793, 7.09691  , 4.2756424, 9.2218485,\n",
              "        4.6613445, 8.267606 , 6.0457573, 5.806875 , 6.642065 , 7.8860564,\n",
              "        6.154902 , 8.39794  , 9.       , 7.7212462, 8.1549015, 5.9172144,\n",
              "        7.823909 , 6.154902 , 5.0814457, 5.823909 , 5.5157003, 6.3565474,\n",
              "        7.537602 , 8.920818 , 4.339324 , 4.91364  , 5.485452 , 5.2269454,\n",
              "        7.102373 , 5.248721 , 6.60206  , 6.275724 , 8.522879 , 5.086186 ,\n",
              "        8.       , 8.09691  , 4.89279  , 5.5228786, 7.853872 , 5.075721 ,\n",
              "        5.920819 , 7.7695513, 8.346787 , 4.8632793, 5.958607 , 7.7447276,\n",
              "        5.6382723, 5.6840296, 5.5016894, 6.6903696, 6.853872 , 7.49485  ,\n",
              "        6.154902 , 7.920819 , 7.6197886, 5.221849 , 8.886057 , 7.3439975,\n",
              "        5.552842 , 6.09691  , 4.5185575, 5.829738 , 5.14752  , 5.29243  ,\n",
              "        3.929999 , 5.2441254, 8.318759 , 4.69897  , 5.552842 , 7.2676063,\n",
              "        7.3467875, 5.091515 , 7.49485  , 5.207608 , 8.79588  , 6.09691  ,\n",
              "        4.298432 , 4.8860564, 5.823909 , 8.677781 , 5.2204037, 3.937343 ,\n",
              "        4.167491 , 6.853872 , 3.5157   , 7.154902 , 4.1643095, 5.4317985,\n",
              "        7.7212462, 4.9767475, 7.       , 6.79588  , 4.       , 4.879426 ,\n",
              "        6.375718 , 5.39794  , 5.7212462, 6.2839966, 7.481486 , 8.39794  ,\n",
              "        4.7695513, 4.973058 , 7.180456 , 4.6161847, 5.21467  , 5.337242 ,\n",
              "        4.1511955, 4.8326826, 5.154282 , 4.920819 , 4.9914   , 4.761954 ,\n",
              "        4.8035474, 5.7695513, 5.154902 , 5.709965 , 7.091515 , 4.990549 ,\n",
              "        7.920819 , 5.004365 , 6.09691  , 5.1518106, 5.1079054, 4.387216 ,\n",
              "        5.5850267, 4.74958  , 5.2269454, 4.774432 , 5.1487417, 4.950782 ,\n",
              "        4.38563  , 4.7772837, 5.       , 6.920819 , 5.60206  , 6.7447276,\n",
              "        7.60206  , 5.958607 , 5.958607 , 5.5228786, 4.860121 , 4.537602 ,\n",
              "        5.455932 , 5.400117 , 8.79588  , 6.4436975, 4.995249 , 8.481486 ,\n",
              "        5.879426 , 7.3565474, 6.5800443, 4.7459354, 4.937418 , 4.9469213,\n",
              "        5.1174755, 4.7189665, 5.853872 , 4.075721 , 4.7695513, 4.90309  ,\n",
              "        7.6382723, 7.3383765, 4.7746906, 5.7212462, 8.161151 , 5.183096 ,\n",
              "        6.853872 , 5.37059  , 4.704653 , 4.7746906, 6.154902 , 5.2676063,\n",
              "        5.0222764, 3.691009 , 7.9914   ], dtype=float32)>,\n",
              " <tf.Tensor: shape=(226,), dtype=float32, numpy=\n",
              " array([7.578396 , 4.798603 , 6.102373 , 5.8860564, 4.692504 , 5.113509 ,\n",
              "        5.154902 , 5.275724 , 7.7695513, 4.871924 , 4.8268137, 5.080922 ,\n",
              "        8.552842 , 5.4225082, 6.7212462, 7.091515 , 7.387216 , 8.318759 ,\n",
              "        5.430626 , 7.7212462, 5.2269454, 4.7274623, 9.1549015, 5.4867826,\n",
              "        4.63097  , 6.       , 7.7447276, 5.167491 , 8.045757 , 5.3214817,\n",
              "        5.387216 , 5.860121 , 5.5686364, 3.8875961, 4.782516 , 6.086186 ,\n",
              "        5.537602 , 7.2441254, 4.908333 , 7.853872 , 5.4089355, 7.1470323,\n",
              "        8.522879 , 5.537602 , 6.09691  , 5.3279023, 4.798603 , 5.180456 ,\n",
              "        7.537602 , 4.860121 , 5.823909 , 7.251812 , 5.5044556, 6.30103  ,\n",
              "        8.236572 , 5.49485  , 4.8153086, 6.21467  , 4.9244533, 5.8860564,\n",
              "        6.79588  , 4.623423 , 6.403403 , 7.6197886, 5.2139587, 5.659556 ,\n",
              "        4.3204813, 5.036212 , 7.5686364, 5.337242 , 5.3279023, 8.       ,\n",
              "        5.1624117, 4.5331326, 4.8860564, 5.5686364, 5.636388 , 4.972243 ,\n",
              "        4.091515 , 7.537602 , 5.790485 , 4.464706 , 5.823909 , 6.5228786,\n",
              "        5.5686364, 3.904482 , 5.920819 , 5.004365 , 5.6382723, 4.941574 ,\n",
              "        5.070581 , 5.6575775, 5.221849 , 6.0457573, 4.715795 , 7.79588  ,\n",
              "        4.853872 , 4.337242 , 7.031517 , 3.6197886, 5.075721 , 4.924818 ,\n",
              "        4.8489366, 5.376751 , 4.707744 , 7.8996296, 4.806875 , 7.0409584,\n",
              "        5.1426673, 7.5686364, 5.5086384, 6.6777806, 4.484126 , 7.1307683,\n",
              "        7.920819 , 7.79588  , 5.1307683, 4.       , 4.12436  , 6.732828 ,\n",
              "        3.8151667, 4.801343 , 5.545155 , 7.9132843, 3.9956787, 5.2740884,\n",
              "        8.508638 , 5.29243  , 5.79588  , 6.39794  , 5.293282 , 6.8860564,\n",
              "        5.403403 , 7.3279023, 4.343806 , 7.0655017, 4.607303 , 5.1040254,\n",
              "        3.6120765, 5.186419 , 4.8934693, 6.1079054, 3.946422 , 5.5686364,\n",
              "        4.788079 , 7.       , 5.6575775, 3.5694413, 6.5228786, 7.055517 ,\n",
              "        5.121478 , 5.3565474, 5.958607 , 7.455932 , 5.6382723, 5.8860564,\n",
              "        7.5228786, 5.860121 , 4.097616 , 4.90309  , 4.883724 , 4.00674  ,\n",
              "        7.853872 , 5.29243  , 5.649752 , 5.0457573, 7.154902 , 6.801343 ,\n",
              "        4.405939 , 4.8268137, 7.0655017, 7.091515 , 7.070581 , 8.522879 ,\n",
              "        4.59176  , 4.978811 , 4.60206  , 5.221849 , 4.958607 , 4.72262  ,\n",
              "        4.69897  , 7.2676063, 4.905529 , 4.7423215, 5.376751 , 6.30103  ,\n",
              "        4.869666 , 5.3851027, 4.958607 , 5.455932 , 4.60206  , 8.522879 ,\n",
              "        5.0486627, 5.3665314, 5.0819697, 6.5086384, 5.1426673, 6.275724 ,\n",
              "        4.939302 , 5.50724  , 6.2676063, 8.79588  , 8.619789 , 7.008774 ,\n",
              "        8.017729 , 6.69897  , 6.2006593, 4.8728952, 7.8894105, 6.229148 ,\n",
              "        5.008774 , 5.7212462, 4.7351823, 4.7274623, 5.474955 , 4.7746906,\n",
              "        7.0655017, 7.2441254, 6.221849 , 5.6575775, 7.1366773, 6.3279023,\n",
              "        8.1549015, 4.080922 , 4.5537734, 4.876148 ], dtype=float32)>,\n",
              " <tf.Tensor: shape=(91,), dtype=float32, numpy=\n",
              " array([4.3595185, 8.366531 , 4.1780934, 4.6197886, 5.008774 , 4.19382  ,\n",
              "        5.1870866, 5.251812 , 6.7447276, 4.823909 , 9.045757 , 7.4089355,\n",
              "        6.075721 , 4.318759 , 4.662341 , 6.       , 7.79588  , 4.8827286,\n",
              "        8.113509 , 4.623423 , 4.4476967, 5.2676063, 5.2967086, 6.6575775,\n",
              "        5.500313 , 4.7435226, 4.798603 , 6.1307683, 5.318759 , 3.9238696,\n",
              "        5.316053 , 7.167491 , 4.3615108, 5.30103  , 5.4317985, 5.2958493,\n",
              "        4.9625735, 4.7189665, 7.782516 , 3.2006595, 5.625252 , 5.1870866,\n",
              "        8.443698 , 6.8860564, 5.309804 , 6.60206  , 8.080922 , 4.5228786,\n",
              "        7.8860564, 5.7695513, 8.522879 , 4.6575775, 5.5228786, 6.7447276,\n",
              "        6.5086384, 6.031517 , 8.60206  , 7.920819 , 5.229148 , 4.8728952,\n",
              "        7.590067 , 5.318759 , 8.60206  , 3.988895 , 4.9072795, 5.30103  ,\n",
              "        4.6591597, 5.004365 , 8.60206  , 7.285922 , 6.30103  , 4.333295 ,\n",
              "        6.7695513, 4.6613445, 6.0457573, 5.958607 , 6.30103  , 5.7447276,\n",
              "        8.60206  , 6.318759 , 5.02365  , 7.7695513, 7.6382723, 6.376751 ,\n",
              "        4.761954 , 3.954677 , 5.39794  , 4.3855247, 5.2692175, 7.6575775,\n",
              "        5.0132284], dtype=float32)>)"
            ]
          },
          "metadata": {},
          "execution_count": 22
        }
      ]
    },
    {
      "cell_type": "code",
      "source": [
        "# Create data loaders\n",
        "batch_size = 64\n",
        "train_loader = train_dataset.batch(batch_size).shuffle(True)\n",
        "validation_loader = validation_dataset.batch(batch_size)"
      ],
      "metadata": {
        "id": "wPwisQy0LV-Q"
      },
      "execution_count": 23,
      "outputs": []
    },
    {
      "cell_type": "code",
      "source": [
        "train_loader"
      ],
      "metadata": {
        "colab": {
          "base_uri": "https://localhost:8080/"
        },
        "id": "xSZDl9I6K9lL",
        "outputId": "8f5c8c57-c513-4fa4-b938-e51b842afab7"
      },
      "execution_count": 24,
      "outputs": [
        {
          "output_type": "execute_result",
          "data": {
            "text/plain": [
              "<_ShuffleDataset element_spec=(TensorSpec(shape=(None, 113), dtype=tf.float32, name=None), TensorSpec(shape=(None,), dtype=tf.float32, name=None))>"
            ]
          },
          "metadata": {},
          "execution_count": 24
        }
      ]
    },
    {
      "cell_type": "code",
      "source": [
        "validation_loader"
      ],
      "metadata": {
        "colab": {
          "base_uri": "https://localhost:8080/"
        },
        "id": "wB8SDHSfLBQ1",
        "outputId": "c9705383-4a7d-40d3-91f7-7d778fd0b337"
      },
      "execution_count": 25,
      "outputs": [
        {
          "output_type": "execute_result",
          "data": {
            "text/plain": [
              "<_BatchDataset element_spec=(TensorSpec(shape=(None, 113), dtype=tf.float32, name=None), TensorSpec(shape=(None,), dtype=tf.float32, name=None))>"
            ]
          },
          "metadata": {},
          "execution_count": 25
        }
      ]
    },
    {
      "cell_type": "code",
      "source": [
        "\n",
        "\n",
        "class Net(tf.keras.Model):\n",
        "    def __init__(self, input_size, hidden_size, dropout_rate, output_size):\n",
        "        super(Net, self).__init__()\n",
        "        self.fc1 = tf.keras.layers.Dense(hidden_size)  # 1st Dense Layer\n",
        "        self.fc2 = tf.keras.layers.Dense(hidden_size)\n",
        "        self.fc3 = tf.keras.layers.Dense(hidden_size)\n",
        "        self.fc_out = tf.keras.layers.Dense(output_size)  # Output layer\n",
        "        self.ln1 = tf.keras.layers.LayerNormalization()\n",
        "        self.ln2 = tf.keras.layers.LayerNormalization()\n",
        "        self.ln3 = tf.keras.layers.LayerNormalization()\n",
        "        self.activation = tf.keras.layers.LeakyReLU()\n",
        "        self.dropout = tf.keras.layers.Dropout(dropout_rate)\n",
        "     \n",
        "    def call(self, x):\n",
        "        out = self.fc1(x)\n",
        "        out = self.ln1(out)\n",
        "        out = self.activation(out)\n",
        "        out = self.dropout(out)\n",
        "        out = self.fc2(out)\n",
        "        out = self.ln2(out)\n",
        "        out = self.activation(out)\n",
        "        out = self.dropout(out)\n",
        "        out = self.fc3(out)\n",
        "        out = self.ln3(out)\n",
        "        out = self.activation(out)\n",
        "        out = self.dropout(out)\n",
        "        out = self.fc_out(out)\n",
        "        return out\n",
        "\n"
      ],
      "metadata": {
        "id": "b6L4zig-JlEi"
      },
      "execution_count": 26,
      "outputs": []
    },
    {
      "cell_type": "code",
      "source": [
        "# Define the hyperparameters\n",
        "input_size = X_train.shape[-1]  # The input size should fit our fingerprint size\n",
        "hidden_size = 50  # The size of the hidden layer\n",
        "dropout_rate = 0.30  # The dropout rate\n",
        "output_size = 1  # This is just a single task, so this will be one\n",
        "learning_rate = 0.001  # The learning rate for the optimizer\n",
        "\n",
        "\n"
      ],
      "metadata": {
        "id": "lmCXxfvKMl7l"
      },
      "execution_count": 27,
      "outputs": []
    },
    {
      "cell_type": "code",
      "source": [
        "model = Net(input_size, hidden_size, dropout_rate, output_size)\n",
        "model.compile(loss=tf.keras.losses.MeanSquaredError(), optimizer=tf.keras.optimizers.Adam(learning_rate=learning_rate))\n"
      ],
      "metadata": {
        "id": "VjL-D6daMtTL"
      },
      "execution_count": 28,
      "outputs": []
    },
    {
      "cell_type": "code",
      "source": [
        "\n",
        "epochs = 200\n",
        "history = model.fit(train_loader, epochs=epochs, validation_data=validation_loader, verbose=1)\n",
        "\n"
      ],
      "metadata": {
        "colab": {
          "base_uri": "https://localhost:8080/"
        },
        "id": "HXhj-V9LMsvN",
        "outputId": "f3618a66-c767-443e-a929-b901d9107bb7"
      },
      "execution_count": 29,
      "outputs": [
        {
          "output_type": "stream",
          "name": "stdout",
          "text": [
            "Epoch 1/200\n",
            "13/13 [==============================] - 2s 20ms/step - loss: 15.7276 - val_loss: 2.6565\n",
            "Epoch 2/200\n",
            "13/13 [==============================] - 0s 5ms/step - loss: 3.7175 - val_loss: 2.2396\n",
            "Epoch 3/200\n",
            "13/13 [==============================] - 0s 5ms/step - loss: 2.7283 - val_loss: 2.8215\n",
            "Epoch 4/200\n",
            "13/13 [==============================] - 0s 6ms/step - loss: 2.6078 - val_loss: 2.4740\n",
            "Epoch 5/200\n",
            "13/13 [==============================] - 0s 5ms/step - loss: 2.5909 - val_loss: 2.1215\n",
            "Epoch 6/200\n",
            "13/13 [==============================] - 0s 5ms/step - loss: 2.6175 - val_loss: 1.8694\n",
            "Epoch 7/200\n",
            "13/13 [==============================] - 0s 5ms/step - loss: 2.4745 - val_loss: 1.8919\n",
            "Epoch 8/200\n",
            "13/13 [==============================] - 0s 6ms/step - loss: 2.2695 - val_loss: 1.8798\n",
            "Epoch 9/200\n",
            "13/13 [==============================] - 0s 5ms/step - loss: 2.3100 - val_loss: 1.8282\n",
            "Epoch 10/200\n",
            "13/13 [==============================] - 0s 5ms/step - loss: 2.1040 - val_loss: 1.6954\n",
            "Epoch 11/200\n",
            "13/13 [==============================] - 0s 7ms/step - loss: 2.0753 - val_loss: 1.6244\n",
            "Epoch 12/200\n",
            "13/13 [==============================] - 0s 4ms/step - loss: 2.0838 - val_loss: 1.5680\n",
            "Epoch 13/200\n",
            "13/13 [==============================] - 0s 3ms/step - loss: 2.0009 - val_loss: 1.5376\n",
            "Epoch 14/200\n",
            "13/13 [==============================] - 0s 3ms/step - loss: 2.0128 - val_loss: 1.3943\n",
            "Epoch 15/200\n",
            "13/13 [==============================] - 0s 3ms/step - loss: 1.9235 - val_loss: 1.2860\n",
            "Epoch 16/200\n",
            "13/13 [==============================] - 0s 3ms/step - loss: 1.8855 - val_loss: 1.2483\n",
            "Epoch 17/200\n",
            "13/13 [==============================] - 0s 4ms/step - loss: 1.8906 - val_loss: 1.1551\n",
            "Epoch 18/200\n",
            "13/13 [==============================] - 0s 3ms/step - loss: 1.4996 - val_loss: 1.0947\n",
            "Epoch 19/200\n",
            "13/13 [==============================] - 0s 4ms/step - loss: 1.6596 - val_loss: 1.0147\n",
            "Epoch 20/200\n",
            "13/13 [==============================] - 0s 4ms/step - loss: 1.6638 - val_loss: 0.9364\n",
            "Epoch 21/200\n",
            "13/13 [==============================] - 0s 3ms/step - loss: 1.4787 - val_loss: 0.8676\n",
            "Epoch 22/200\n",
            "13/13 [==============================] - 0s 3ms/step - loss: 1.4646 - val_loss: 0.8061\n",
            "Epoch 23/200\n",
            "13/13 [==============================] - 0s 4ms/step - loss: 1.4503 - val_loss: 0.7866\n",
            "Epoch 24/200\n",
            "13/13 [==============================] - 0s 3ms/step - loss: 1.4922 - val_loss: 0.6680\n",
            "Epoch 25/200\n",
            "13/13 [==============================] - 0s 3ms/step - loss: 1.4189 - val_loss: 0.7228\n",
            "Epoch 26/200\n",
            "13/13 [==============================] - 0s 3ms/step - loss: 1.3034 - val_loss: 0.6051\n",
            "Epoch 27/200\n",
            "13/13 [==============================] - 0s 3ms/step - loss: 1.3495 - val_loss: 0.6063\n",
            "Epoch 28/200\n",
            "13/13 [==============================] - 0s 4ms/step - loss: 1.3428 - val_loss: 0.5840\n",
            "Epoch 29/200\n",
            "13/13 [==============================] - 0s 3ms/step - loss: 1.2641 - val_loss: 0.5899\n",
            "Epoch 30/200\n",
            "13/13 [==============================] - 0s 3ms/step - loss: 1.2351 - val_loss: 0.5791\n",
            "Epoch 31/200\n",
            "13/13 [==============================] - 0s 3ms/step - loss: 1.2460 - val_loss: 0.5230\n",
            "Epoch 32/200\n",
            "13/13 [==============================] - 0s 3ms/step - loss: 1.3146 - val_loss: 0.4959\n",
            "Epoch 33/200\n",
            "13/13 [==============================] - 0s 3ms/step - loss: 1.1886 - val_loss: 0.4703\n",
            "Epoch 34/200\n",
            "13/13 [==============================] - 0s 3ms/step - loss: 1.1627 - val_loss: 0.4705\n",
            "Epoch 35/200\n",
            "13/13 [==============================] - 0s 3ms/step - loss: 1.2905 - val_loss: 0.5112\n",
            "Epoch 36/200\n",
            "13/13 [==============================] - 0s 4ms/step - loss: 1.2153 - val_loss: 0.4738\n",
            "Epoch 37/200\n",
            "13/13 [==============================] - 0s 3ms/step - loss: 1.2488 - val_loss: 0.5061\n",
            "Epoch 38/200\n",
            "13/13 [==============================] - 0s 4ms/step - loss: 1.0891 - val_loss: 0.4193\n",
            "Epoch 39/200\n",
            "13/13 [==============================] - 0s 4ms/step - loss: 1.0677 - val_loss: 0.5068\n",
            "Epoch 40/200\n",
            "13/13 [==============================] - 0s 4ms/step - loss: 1.2287 - val_loss: 0.4190\n",
            "Epoch 41/200\n",
            "13/13 [==============================] - 0s 4ms/step - loss: 1.1114 - val_loss: 0.4470\n",
            "Epoch 42/200\n",
            "13/13 [==============================] - 0s 3ms/step - loss: 1.1239 - val_loss: 0.4600\n",
            "Epoch 43/200\n",
            "13/13 [==============================] - 0s 4ms/step - loss: 1.0589 - val_loss: 0.4181\n",
            "Epoch 44/200\n",
            "13/13 [==============================] - 0s 3ms/step - loss: 1.0881 - val_loss: 0.4324\n",
            "Epoch 45/200\n",
            "13/13 [==============================] - 0s 4ms/step - loss: 1.0368 - val_loss: 0.4791\n",
            "Epoch 46/200\n",
            "13/13 [==============================] - 0s 3ms/step - loss: 1.0922 - val_loss: 0.4131\n",
            "Epoch 47/200\n",
            "13/13 [==============================] - 0s 3ms/step - loss: 0.9955 - val_loss: 0.4659\n",
            "Epoch 48/200\n",
            "13/13 [==============================] - 0s 4ms/step - loss: 1.0524 - val_loss: 0.4048\n",
            "Epoch 49/200\n",
            "13/13 [==============================] - 0s 4ms/step - loss: 1.0536 - val_loss: 0.4142\n",
            "Epoch 50/200\n",
            "13/13 [==============================] - 0s 3ms/step - loss: 1.1218 - val_loss: 0.4102\n",
            "Epoch 51/200\n",
            "13/13 [==============================] - 0s 4ms/step - loss: 0.9842 - val_loss: 0.3880\n",
            "Epoch 52/200\n",
            "13/13 [==============================] - 0s 3ms/step - loss: 1.0066 - val_loss: 0.4086\n",
            "Epoch 53/200\n",
            "13/13 [==============================] - 0s 3ms/step - loss: 1.0018 - val_loss: 0.3745\n",
            "Epoch 54/200\n",
            "13/13 [==============================] - 0s 3ms/step - loss: 0.9278 - val_loss: 0.3946\n",
            "Epoch 55/200\n",
            "13/13 [==============================] - 0s 4ms/step - loss: 1.0357 - val_loss: 0.3988\n",
            "Epoch 56/200\n",
            "13/13 [==============================] - 0s 4ms/step - loss: 0.9813 - val_loss: 0.3653\n",
            "Epoch 57/200\n",
            "13/13 [==============================] - 0s 3ms/step - loss: 0.9091 - val_loss: 0.3905\n",
            "Epoch 58/200\n",
            "13/13 [==============================] - 0s 4ms/step - loss: 1.0033 - val_loss: 0.3933\n",
            "Epoch 59/200\n",
            "13/13 [==============================] - 0s 3ms/step - loss: 0.9600 - val_loss: 0.3672\n",
            "Epoch 60/200\n",
            "13/13 [==============================] - 0s 3ms/step - loss: 1.0634 - val_loss: 0.4014\n",
            "Epoch 61/200\n",
            "13/13 [==============================] - 0s 4ms/step - loss: 0.9909 - val_loss: 0.3382\n",
            "Epoch 62/200\n",
            "13/13 [==============================] - 0s 3ms/step - loss: 0.9592 - val_loss: 0.3632\n",
            "Epoch 63/200\n",
            "13/13 [==============================] - 0s 3ms/step - loss: 0.8878 - val_loss: 0.3777\n",
            "Epoch 64/200\n",
            "13/13 [==============================] - 0s 3ms/step - loss: 0.9170 - val_loss: 0.3873\n",
            "Epoch 65/200\n",
            "13/13 [==============================] - 0s 3ms/step - loss: 0.8931 - val_loss: 0.3482\n",
            "Epoch 66/200\n",
            "13/13 [==============================] - 0s 3ms/step - loss: 0.9372 - val_loss: 0.3769\n",
            "Epoch 67/200\n",
            "13/13 [==============================] - 0s 3ms/step - loss: 0.9879 - val_loss: 0.3872\n",
            "Epoch 68/200\n",
            "13/13 [==============================] - 0s 4ms/step - loss: 1.0038 - val_loss: 0.3822\n",
            "Epoch 69/200\n",
            "13/13 [==============================] - 0s 4ms/step - loss: 0.9776 - val_loss: 0.3700\n",
            "Epoch 70/200\n",
            "13/13 [==============================] - 0s 3ms/step - loss: 0.9617 - val_loss: 0.3692\n",
            "Epoch 71/200\n",
            "13/13 [==============================] - 0s 4ms/step - loss: 0.9153 - val_loss: 0.3664\n",
            "Epoch 72/200\n",
            "13/13 [==============================] - 0s 4ms/step - loss: 0.9740 - val_loss: 0.3407\n",
            "Epoch 73/200\n",
            "13/13 [==============================] - 0s 4ms/step - loss: 0.9013 - val_loss: 0.3478\n",
            "Epoch 74/200\n",
            "13/13 [==============================] - 0s 4ms/step - loss: 0.9194 - val_loss: 0.3302\n",
            "Epoch 75/200\n",
            "13/13 [==============================] - 0s 4ms/step - loss: 0.8771 - val_loss: 0.3514\n",
            "Epoch 76/200\n",
            "13/13 [==============================] - 0s 3ms/step - loss: 0.8401 - val_loss: 0.3453\n",
            "Epoch 77/200\n",
            "13/13 [==============================] - 0s 3ms/step - loss: 0.8264 - val_loss: 0.3918\n",
            "Epoch 78/200\n",
            "13/13 [==============================] - 0s 3ms/step - loss: 0.8672 - val_loss: 0.3488\n",
            "Epoch 79/200\n",
            "13/13 [==============================] - 0s 3ms/step - loss: 0.9094 - val_loss: 0.3435\n",
            "Epoch 80/200\n",
            "13/13 [==============================] - 0s 3ms/step - loss: 0.8098 - val_loss: 0.3458\n",
            "Epoch 81/200\n",
            "13/13 [==============================] - 0s 3ms/step - loss: 0.8353 - val_loss: 0.3615\n",
            "Epoch 82/200\n",
            "13/13 [==============================] - 0s 3ms/step - loss: 0.8784 - val_loss: 0.2998\n",
            "Epoch 83/200\n",
            "13/13 [==============================] - 0s 4ms/step - loss: 0.8673 - val_loss: 0.3247\n",
            "Epoch 84/200\n",
            "13/13 [==============================] - 0s 4ms/step - loss: 0.9516 - val_loss: 0.2883\n",
            "Epoch 85/200\n",
            "13/13 [==============================] - 0s 3ms/step - loss: 0.8466 - val_loss: 0.3104\n",
            "Epoch 86/200\n",
            "13/13 [==============================] - 0s 3ms/step - loss: 0.8798 - val_loss: 0.3138\n",
            "Epoch 87/200\n",
            "13/13 [==============================] - 0s 3ms/step - loss: 0.8810 - val_loss: 0.2886\n",
            "Epoch 88/200\n",
            "13/13 [==============================] - 0s 3ms/step - loss: 0.8302 - val_loss: 0.3256\n",
            "Epoch 89/200\n",
            "13/13 [==============================] - 0s 4ms/step - loss: 0.9345 - val_loss: 0.3016\n",
            "Epoch 90/200\n",
            "13/13 [==============================] - 0s 3ms/step - loss: 0.8434 - val_loss: 0.3530\n",
            "Epoch 91/200\n",
            "13/13 [==============================] - 0s 3ms/step - loss: 0.8699 - val_loss: 0.3121\n",
            "Epoch 92/200\n",
            "13/13 [==============================] - 0s 3ms/step - loss: 0.9029 - val_loss: 0.3047\n",
            "Epoch 93/200\n",
            "13/13 [==============================] - 0s 3ms/step - loss: 0.7337 - val_loss: 0.3033\n",
            "Epoch 94/200\n",
            "13/13 [==============================] - 0s 4ms/step - loss: 0.8014 - val_loss: 0.3518\n",
            "Epoch 95/200\n",
            "13/13 [==============================] - 0s 3ms/step - loss: 0.7688 - val_loss: 0.3065\n",
            "Epoch 96/200\n",
            "13/13 [==============================] - 0s 3ms/step - loss: 0.8239 - val_loss: 0.3010\n",
            "Epoch 97/200\n",
            "13/13 [==============================] - 0s 3ms/step - loss: 0.8285 - val_loss: 0.3085\n",
            "Epoch 98/200\n",
            "13/13 [==============================] - 0s 3ms/step - loss: 0.8491 - val_loss: 0.3391\n",
            "Epoch 99/200\n",
            "13/13 [==============================] - 0s 4ms/step - loss: 0.8474 - val_loss: 0.2940\n",
            "Epoch 100/200\n",
            "13/13 [==============================] - 0s 4ms/step - loss: 0.7957 - val_loss: 0.2918\n",
            "Epoch 101/200\n",
            "13/13 [==============================] - 0s 3ms/step - loss: 0.7920 - val_loss: 0.3157\n",
            "Epoch 102/200\n",
            "13/13 [==============================] - 0s 3ms/step - loss: 0.7593 - val_loss: 0.3145\n",
            "Epoch 103/200\n",
            "13/13 [==============================] - 0s 3ms/step - loss: 0.7634 - val_loss: 0.3401\n",
            "Epoch 104/200\n",
            "13/13 [==============================] - 0s 3ms/step - loss: 0.7476 - val_loss: 0.2880\n",
            "Epoch 105/200\n",
            "13/13 [==============================] - 0s 3ms/step - loss: 0.7118 - val_loss: 0.3034\n",
            "Epoch 106/200\n",
            "13/13 [==============================] - 0s 3ms/step - loss: 0.7875 - val_loss: 0.3027\n",
            "Epoch 107/200\n",
            "13/13 [==============================] - 0s 3ms/step - loss: 0.7850 - val_loss: 0.2999\n",
            "Epoch 108/200\n",
            "13/13 [==============================] - 0s 3ms/step - loss: 0.8225 - val_loss: 0.3102\n",
            "Epoch 109/200\n",
            "13/13 [==============================] - 0s 3ms/step - loss: 0.7929 - val_loss: 0.3148\n",
            "Epoch 110/200\n",
            "13/13 [==============================] - 0s 3ms/step - loss: 0.7312 - val_loss: 0.3037\n",
            "Epoch 111/200\n",
            "13/13 [==============================] - 0s 3ms/step - loss: 0.7902 - val_loss: 0.3007\n",
            "Epoch 112/200\n",
            "13/13 [==============================] - 0s 3ms/step - loss: 0.8478 - val_loss: 0.3046\n",
            "Epoch 113/200\n",
            "13/13 [==============================] - 0s 4ms/step - loss: 0.7464 - val_loss: 0.3136\n",
            "Epoch 114/200\n",
            "13/13 [==============================] - 0s 3ms/step - loss: 0.7218 - val_loss: 0.2908\n",
            "Epoch 115/200\n",
            "13/13 [==============================] - 0s 3ms/step - loss: 0.7590 - val_loss: 0.2854\n",
            "Epoch 116/200\n",
            "13/13 [==============================] - 0s 3ms/step - loss: 0.7659 - val_loss: 0.3013\n",
            "Epoch 117/200\n",
            "13/13 [==============================] - 0s 3ms/step - loss: 0.7632 - val_loss: 0.2994\n",
            "Epoch 118/200\n",
            "13/13 [==============================] - 0s 3ms/step - loss: 0.7398 - val_loss: 0.2896\n",
            "Epoch 119/200\n",
            "13/13 [==============================] - 0s 4ms/step - loss: 0.7618 - val_loss: 0.3403\n",
            "Epoch 120/200\n",
            "13/13 [==============================] - 0s 4ms/step - loss: 0.7779 - val_loss: 0.2945\n",
            "Epoch 121/200\n",
            "13/13 [==============================] - 0s 3ms/step - loss: 0.6764 - val_loss: 0.3292\n",
            "Epoch 122/200\n",
            "13/13 [==============================] - 0s 3ms/step - loss: 0.7588 - val_loss: 0.3240\n",
            "Epoch 123/200\n",
            "13/13 [==============================] - 0s 3ms/step - loss: 0.7779 - val_loss: 0.3033\n",
            "Epoch 124/200\n",
            "13/13 [==============================] - 0s 3ms/step - loss: 0.7216 - val_loss: 0.2786\n",
            "Epoch 125/200\n",
            "13/13 [==============================] - 0s 4ms/step - loss: 0.7244 - val_loss: 0.2908\n",
            "Epoch 126/200\n",
            "13/13 [==============================] - 0s 4ms/step - loss: 0.7330 - val_loss: 0.3209\n",
            "Epoch 127/200\n",
            "13/13 [==============================] - 0s 4ms/step - loss: 0.7568 - val_loss: 0.2636\n",
            "Epoch 128/200\n",
            "13/13 [==============================] - 0s 4ms/step - loss: 0.7107 - val_loss: 0.3338\n",
            "Epoch 129/200\n",
            "13/13 [==============================] - 0s 3ms/step - loss: 0.7547 - val_loss: 0.3058\n",
            "Epoch 130/200\n",
            "13/13 [==============================] - 0s 3ms/step - loss: 0.8619 - val_loss: 0.3458\n",
            "Epoch 131/200\n",
            "13/13 [==============================] - 0s 3ms/step - loss: 0.7396 - val_loss: 0.3072\n",
            "Epoch 132/200\n",
            "13/13 [==============================] - 0s 4ms/step - loss: 0.6621 - val_loss: 0.3017\n",
            "Epoch 133/200\n",
            "13/13 [==============================] - 0s 5ms/step - loss: 0.6977 - val_loss: 0.3285\n",
            "Epoch 134/200\n",
            "13/13 [==============================] - 0s 4ms/step - loss: 0.6731 - val_loss: 0.2857\n",
            "Epoch 135/200\n",
            "13/13 [==============================] - 0s 3ms/step - loss: 0.7454 - val_loss: 0.2791\n",
            "Epoch 136/200\n",
            "13/13 [==============================] - 0s 3ms/step - loss: 0.6699 - val_loss: 0.3110\n",
            "Epoch 137/200\n",
            "13/13 [==============================] - 0s 3ms/step - loss: 0.7684 - val_loss: 0.2922\n",
            "Epoch 138/200\n",
            "13/13 [==============================] - 0s 4ms/step - loss: 0.7255 - val_loss: 0.2917\n",
            "Epoch 139/200\n",
            "13/13 [==============================] - 0s 3ms/step - loss: 0.6816 - val_loss: 0.3054\n",
            "Epoch 140/200\n",
            "13/13 [==============================] - 0s 3ms/step - loss: 0.7024 - val_loss: 0.2704\n",
            "Epoch 141/200\n",
            "13/13 [==============================] - 0s 3ms/step - loss: 0.7109 - val_loss: 0.2779\n",
            "Epoch 142/200\n",
            "13/13 [==============================] - 0s 3ms/step - loss: 0.7079 - val_loss: 0.3193\n",
            "Epoch 143/200\n",
            "13/13 [==============================] - 0s 3ms/step - loss: 0.7361 - val_loss: 0.2919\n",
            "Epoch 144/200\n",
            "13/13 [==============================] - 0s 4ms/step - loss: 0.7378 - val_loss: 0.3000\n",
            "Epoch 145/200\n",
            "13/13 [==============================] - 0s 4ms/step - loss: 0.7787 - val_loss: 0.3499\n",
            "Epoch 146/200\n",
            "13/13 [==============================] - 0s 4ms/step - loss: 0.7122 - val_loss: 0.3023\n",
            "Epoch 147/200\n",
            "13/13 [==============================] - 0s 3ms/step - loss: 0.6633 - val_loss: 0.2966\n",
            "Epoch 148/200\n",
            "13/13 [==============================] - 0s 3ms/step - loss: 0.6248 - val_loss: 0.3047\n",
            "Epoch 149/200\n",
            "13/13 [==============================] - 0s 3ms/step - loss: 0.6958 - val_loss: 0.2936\n",
            "Epoch 150/200\n",
            "13/13 [==============================] - 0s 3ms/step - loss: 0.7245 - val_loss: 0.3169\n",
            "Epoch 151/200\n",
            "13/13 [==============================] - 0s 3ms/step - loss: 0.7136 - val_loss: 0.3274\n",
            "Epoch 152/200\n",
            "13/13 [==============================] - 0s 3ms/step - loss: 0.7279 - val_loss: 0.2729\n",
            "Epoch 153/200\n",
            "13/13 [==============================] - 0s 3ms/step - loss: 0.6626 - val_loss: 0.3184\n",
            "Epoch 154/200\n",
            "13/13 [==============================] - 0s 3ms/step - loss: 0.6894 - val_loss: 0.2813\n",
            "Epoch 155/200\n",
            "13/13 [==============================] - 0s 3ms/step - loss: 0.6762 - val_loss: 0.2718\n",
            "Epoch 156/200\n",
            "13/13 [==============================] - 0s 3ms/step - loss: 0.6885 - val_loss: 0.2753\n",
            "Epoch 157/200\n",
            "13/13 [==============================] - 0s 3ms/step - loss: 0.6942 - val_loss: 0.3261\n",
            "Epoch 158/200\n",
            "13/13 [==============================] - 0s 3ms/step - loss: 0.6279 - val_loss: 0.2590\n",
            "Epoch 159/200\n",
            "13/13 [==============================] - 0s 4ms/step - loss: 0.6476 - val_loss: 0.3384\n",
            "Epoch 160/200\n",
            "13/13 [==============================] - 0s 3ms/step - loss: 0.7035 - val_loss: 0.3011\n",
            "Epoch 161/200\n",
            "13/13 [==============================] - 0s 4ms/step - loss: 0.6488 - val_loss: 0.2792\n",
            "Epoch 162/200\n",
            "13/13 [==============================] - 0s 3ms/step - loss: 0.6755 - val_loss: 0.3261\n",
            "Epoch 163/200\n",
            "13/13 [==============================] - 0s 3ms/step - loss: 0.6390 - val_loss: 0.2880\n",
            "Epoch 164/200\n",
            "13/13 [==============================] - 0s 4ms/step - loss: 0.6694 - val_loss: 0.3019\n",
            "Epoch 165/200\n",
            "13/13 [==============================] - 0s 3ms/step - loss: 0.6240 - val_loss: 0.3006\n",
            "Epoch 166/200\n",
            "13/13 [==============================] - 0s 4ms/step - loss: 0.6518 - val_loss: 0.3031\n",
            "Epoch 167/200\n",
            "13/13 [==============================] - 0s 4ms/step - loss: 0.6292 - val_loss: 0.3269\n",
            "Epoch 168/200\n",
            "13/13 [==============================] - 0s 4ms/step - loss: 0.7119 - val_loss: 0.2603\n",
            "Epoch 169/200\n",
            "13/13 [==============================] - 0s 3ms/step - loss: 0.6831 - val_loss: 0.3008\n",
            "Epoch 170/200\n",
            "13/13 [==============================] - 0s 3ms/step - loss: 0.6509 - val_loss: 0.3072\n",
            "Epoch 171/200\n",
            "13/13 [==============================] - 0s 3ms/step - loss: 0.6841 - val_loss: 0.2785\n",
            "Epoch 172/200\n",
            "13/13 [==============================] - 0s 3ms/step - loss: 0.7194 - val_loss: 0.2896\n",
            "Epoch 173/200\n",
            "13/13 [==============================] - 0s 4ms/step - loss: 0.6924 - val_loss: 0.2848\n",
            "Epoch 174/200\n",
            "13/13 [==============================] - 0s 4ms/step - loss: 0.6126 - val_loss: 0.2982\n",
            "Epoch 175/200\n",
            "13/13 [==============================] - 0s 3ms/step - loss: 0.6477 - val_loss: 0.2941\n",
            "Epoch 176/200\n",
            "13/13 [==============================] - 0s 4ms/step - loss: 0.6362 - val_loss: 0.2890\n",
            "Epoch 177/200\n",
            "13/13 [==============================] - 0s 6ms/step - loss: 0.6451 - val_loss: 0.2852\n",
            "Epoch 178/200\n",
            "13/13 [==============================] - 0s 5ms/step - loss: 0.6403 - val_loss: 0.2979\n",
            "Epoch 179/200\n",
            "13/13 [==============================] - 0s 5ms/step - loss: 0.6088 - val_loss: 0.2878\n",
            "Epoch 180/200\n",
            "13/13 [==============================] - 0s 4ms/step - loss: 0.6316 - val_loss: 0.2843\n",
            "Epoch 181/200\n",
            "13/13 [==============================] - 0s 5ms/step - loss: 0.6166 - val_loss: 0.3022\n",
            "Epoch 182/200\n",
            "13/13 [==============================] - 0s 5ms/step - loss: 0.6320 - val_loss: 0.3254\n",
            "Epoch 183/200\n",
            "13/13 [==============================] - 0s 5ms/step - loss: 0.6582 - val_loss: 0.2964\n",
            "Epoch 184/200\n",
            "13/13 [==============================] - 0s 6ms/step - loss: 0.6284 - val_loss: 0.3086\n",
            "Epoch 185/200\n",
            "13/13 [==============================] - 0s 7ms/step - loss: 0.6334 - val_loss: 0.2652\n",
            "Epoch 186/200\n",
            "13/13 [==============================] - 0s 5ms/step - loss: 0.6501 - val_loss: 0.3126\n",
            "Epoch 187/200\n",
            "13/13 [==============================] - 0s 4ms/step - loss: 0.6868 - val_loss: 0.2960\n",
            "Epoch 188/200\n",
            "13/13 [==============================] - 0s 3ms/step - loss: 0.6426 - val_loss: 0.3060\n",
            "Epoch 189/200\n",
            "13/13 [==============================] - 0s 3ms/step - loss: 0.6183 - val_loss: 0.2878\n",
            "Epoch 190/200\n",
            "13/13 [==============================] - 0s 4ms/step - loss: 0.6753 - val_loss: 0.2752\n",
            "Epoch 191/200\n",
            "13/13 [==============================] - 0s 3ms/step - loss: 0.7229 - val_loss: 0.3206\n",
            "Epoch 192/200\n",
            "13/13 [==============================] - 0s 3ms/step - loss: 0.6602 - val_loss: 0.3245\n",
            "Epoch 193/200\n",
            "13/13 [==============================] - 0s 3ms/step - loss: 0.6059 - val_loss: 0.3143\n",
            "Epoch 194/200\n",
            "13/13 [==============================] - 0s 4ms/step - loss: 0.6226 - val_loss: 0.2727\n",
            "Epoch 195/200\n",
            "13/13 [==============================] - 0s 3ms/step - loss: 0.6046 - val_loss: 0.3103\n",
            "Epoch 196/200\n",
            "13/13 [==============================] - 0s 4ms/step - loss: 0.6080 - val_loss: 0.2840\n",
            "Epoch 197/200\n",
            "13/13 [==============================] - 0s 3ms/step - loss: 0.6079 - val_loss: 0.2686\n",
            "Epoch 198/200\n",
            "13/13 [==============================] - 0s 3ms/step - loss: 0.5820 - val_loss: 0.2738\n",
            "Epoch 199/200\n",
            "13/13 [==============================] - 0s 4ms/step - loss: 0.6336 - val_loss: 0.3133\n",
            "Epoch 200/200\n",
            "13/13 [==============================] - 0s 3ms/step - loss: 0.5855 - val_loss: 0.3005\n"
          ]
        }
      ]
    },
    {
      "cell_type": "code",
      "source": [
        "# Print loss for each epoch\n",
        "for epoch, loss in enumerate(history.history['loss']):\n",
        "    if epoch % 10 == 0:\n",
        "        val_loss = history.history['val_loss'][epoch]\n",
        "        print(\"Epoch: %3i Training loss: %0.2F Validation loss: %0.2F\" % (epoch, loss, val_loss))"
      ],
      "metadata": {
        "colab": {
          "base_uri": "https://localhost:8080/"
        },
        "id": "KC1p0oFVMwLb",
        "outputId": "a66cac34-7d94-49a9-b7db-363e14071cba"
      },
      "execution_count": 30,
      "outputs": [
        {
          "output_type": "stream",
          "name": "stdout",
          "text": [
            "Epoch:   0 Training loss: 15.73 Validation loss: 2.66\n",
            "Epoch:  10 Training loss: 2.08 Validation loss: 1.62\n",
            "Epoch:  20 Training loss: 1.48 Validation loss: 0.87\n",
            "Epoch:  30 Training loss: 1.25 Validation loss: 0.52\n",
            "Epoch:  40 Training loss: 1.11 Validation loss: 0.45\n",
            "Epoch:  50 Training loss: 0.98 Validation loss: 0.39\n",
            "Epoch:  60 Training loss: 0.99 Validation loss: 0.34\n",
            "Epoch:  70 Training loss: 0.92 Validation loss: 0.37\n",
            "Epoch:  80 Training loss: 0.84 Validation loss: 0.36\n",
            "Epoch:  90 Training loss: 0.87 Validation loss: 0.31\n",
            "Epoch: 100 Training loss: 0.79 Validation loss: 0.32\n",
            "Epoch: 110 Training loss: 0.79 Validation loss: 0.30\n",
            "Epoch: 120 Training loss: 0.68 Validation loss: 0.33\n",
            "Epoch: 130 Training loss: 0.74 Validation loss: 0.31\n",
            "Epoch: 140 Training loss: 0.71 Validation loss: 0.28\n",
            "Epoch: 150 Training loss: 0.71 Validation loss: 0.33\n",
            "Epoch: 160 Training loss: 0.65 Validation loss: 0.28\n",
            "Epoch: 170 Training loss: 0.68 Validation loss: 0.28\n",
            "Epoch: 180 Training loss: 0.62 Validation loss: 0.30\n",
            "Epoch: 190 Training loss: 0.72 Validation loss: 0.32\n"
          ]
        }
      ]
    },
    {
      "cell_type": "code",
      "source": [
        "model.evaluate(train_loader)"
      ],
      "metadata": {
        "colab": {
          "base_uri": "https://localhost:8080/"
        },
        "id": "gY7v85WmM4dR",
        "outputId": "f2bc8c38-e191-4512-87b7-1d54950ac173"
      },
      "execution_count": 31,
      "outputs": [
        {
          "output_type": "stream",
          "name": "stdout",
          "text": [
            "13/13 [==============================] - 0s 2ms/step - loss: 0.2441\n"
          ]
        },
        {
          "output_type": "execute_result",
          "data": {
            "text/plain": [
              "0.24412433803081512"
            ]
          },
          "metadata": {},
          "execution_count": 31
        }
      ]
    },
    {
      "cell_type": "code",
      "source": [
        "model.evaluate(validation_loader)\n"
      ],
      "metadata": {
        "colab": {
          "base_uri": "https://localhost:8080/"
        },
        "id": "XWvLbthxNjP7",
        "outputId": "c707e757-6982-483b-c751-887bf937197f"
      },
      "execution_count": 32,
      "outputs": [
        {
          "output_type": "stream",
          "name": "stdout",
          "text": [
            "2/2 [==============================] - 0s 5ms/step - loss: 0.3005\n"
          ]
        },
        {
          "output_type": "execute_result",
          "data": {
            "text/plain": [
              "0.3004889488220215"
            ]
          },
          "metadata": {},
          "execution_count": 32
        }
      ]
    },
    {
      "cell_type": "code",
      "source": [
        "test_dataset = tf.data.Dataset.from_tensor_slices((X_test, y_test))\n",
        "test_loader = test_dataset.batch(batch_size)"
      ],
      "metadata": {
        "id": "1hanU52ENrYl"
      },
      "execution_count": 33,
      "outputs": []
    },
    {
      "cell_type": "code",
      "source": [
        "model.evaluate(test_loader)"
      ],
      "metadata": {
        "colab": {
          "base_uri": "https://localhost:8080/"
        },
        "id": "XusUDOZSNpZO",
        "outputId": "0e753aac-c852-4d9a-e33b-476518cb085b"
      },
      "execution_count": 34,
      "outputs": [
        {
          "output_type": "stream",
          "name": "stdout",
          "text": [
            "4/4 [==============================] - 0s 8ms/step - loss: 0.3257\n"
          ]
        },
        {
          "output_type": "execute_result",
          "data": {
            "text/plain": [
              "0.32574498653411865"
            ]
          },
          "metadata": {},
          "execution_count": 34
        }
      ]
    },
    {
      "cell_type": "code",
      "source": [
        "y_test_pred=model.predict(X_test)"
      ],
      "metadata": {
        "colab": {
          "base_uri": "https://localhost:8080/"
        },
        "id": "GyPK8GMBOB_N",
        "outputId": "20e95c50-a5a2-4ee5-c002-9bbe76973ac8"
      },
      "execution_count": 36,
      "outputs": [
        {
          "output_type": "stream",
          "name": "stdout",
          "text": [
            "8/8 [==============================] - 0s 1ms/step\n"
          ]
        }
      ]
    },
    {
      "cell_type": "code",
      "source": [
        "y_pred_test_flat = np.array(y_test_pred).flatten()"
      ],
      "metadata": {
        "id": "YfrHQfVuONlG"
      },
      "execution_count": 38,
      "outputs": []
    },
    {
      "cell_type": "code",
      "source": [
        "plt.scatter(y_pred_test_flat, y_test, alpha=0.5, label=\"Test\")\n",
        "plt.legend()\n",
        "plt.plot([4, 8.5], [4,8.5], c=\"b\")"
      ],
      "metadata": {
        "colab": {
          "base_uri": "https://localhost:8080/",
          "height": 447
        },
        "id": "u9G3QyQsPM26",
        "outputId": "ef0293ef-c1bb-42ac-8d85-7d76b4ad74ab"
      },
      "execution_count": 41,
      "outputs": [
        {
          "output_type": "execute_result",
          "data": {
            "text/plain": [
              "[<matplotlib.lines.Line2D at 0x7efb981adb40>]"
            ]
          },
          "metadata": {},
          "execution_count": 41
        },
        {
          "output_type": "display_data",
          "data": {
            "text/plain": [
              "<Figure size 640x480 with 1 Axes>"
            ],
            "image/png": "[encoded data removed]"
          },
          "metadata": {}
        }
      ]
    },
    {
      "cell_type": "code",
      "source": [],
      "metadata": {
        "id": "3H854BunPb1u"
      },
      "execution_count": null,
      "outputs": []
    }
  ]
}