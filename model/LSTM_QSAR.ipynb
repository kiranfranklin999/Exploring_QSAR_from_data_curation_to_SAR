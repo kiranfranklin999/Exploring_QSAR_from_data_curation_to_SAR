{
  "nbformat": 4,
  "nbformat_minor": 0,
  "metadata": {
    "colab": {
      "provenance": [],
      "authorship_tag": "ABX9TyOZu0TAbpQ6/8rbHqc+37tw",
      "include_colab_link": true
    },
    "kernelspec": {
      "name": "python3",
      "display_name": "Python 3"
    },
    "language_info": {
      "name": "python"
    }
  },
  "cells": [
    {
      "cell_type": "markdown",
      "metadata": {
        "id": "view-in-github",
        "colab_type": "text"
      },
      "source": [
        "<a href=\"https://colab.research.google.com/github/kiranfranklin999/Exploring_QSAR_from_data_curation_to_SAR/blob/main/model/LSTM_QSAR.ipynb\" target=\"_parent\"><img src=\"https://colab.research.google.com/assets/colab-badge.svg\" alt=\"Open In Colab\"/></a>"
      ]
    },
    {
      "cell_type": "code",
      "execution_count": 2,
      "metadata": {
        "colab": {
          "base_uri": "https://localhost:8080/"
        },
        "id": "xX7WxZdGQAkW",
        "outputId": "7a430c17-8c44-4211-b40a-8415b78f85e7"
      },
      "outputs": [
        {
          "output_type": "stream",
          "name": "stdout",
          "text": [
            "Looking in indexes: https://pypi.org/simple, https://us-python.pkg.dev/colab-wheels/public/simple/\n",
            "Collecting git+https://github.com/EBjerrum/molvecgen\n",
            "  Cloning https://github.com/EBjerrum/molvecgen to /tmp/pip-req-build-dvyzv1bd\n",
            "  Running command git clone --filter=blob:none --quiet https://github.com/EBjerrum/molvecgen /tmp/pip-req-build-dvyzv1bd\n",
            "  Resolved https://github.com/EBjerrum/molvecgen to commit f81d5aade18bea60882f5845877f6283366bbe91\n",
            "  Preparing metadata (setup.py) ... \u001b[?25l\u001b[?25hdone\n",
            "Requirement already satisfied: numpy in /usr/local/lib/python3.10/dist-packages (from molvecgen==0.1) (1.22.4)\n",
            "Building wheels for collected packages: molvecgen\n",
            "  Building wheel for molvecgen (setup.py) ... \u001b[?25l\u001b[?25hdone\n",
            "  Created wheel for molvecgen: filename=molvecgen-0.1-py3-none-any.whl size=11357 sha256=660d20e5c75dbb35912121ce2cc39044196a916963bad162d5622b0a0fd9edbc\n",
            "  Stored in directory: /tmp/pip-ephem-wheel-cache-0d7kr12k/wheels/1c/de/14/fd9892b48271e63e56b00c7015c754ae6189e258fa313a7c63\n",
            "Successfully built molvecgen\n",
            "Installing collected packages: molvecgen\n",
            "Successfully installed molvecgen-0.1\n"
          ]
        }
      ],
      "source": [
        "!pip install git+https://github.com/EBjerrum/molvecgen"
      ]
    },
    {
      "cell_type": "code",
      "source": [
        "! pip install rdkit-pypi"
      ],
      "metadata": {
        "colab": {
          "base_uri": "https://localhost:8080/"
        },
        "id": "sla9Z5hyE-AP",
        "outputId": "22ecb7f8-8199-41da-9f9a-e67d24f3a121"
      },
      "execution_count": 3,
      "outputs": [
        {
          "output_type": "stream",
          "name": "stdout",
          "text": [
            "Looking in indexes: https://pypi.org/simple, https://us-python.pkg.dev/colab-wheels/public/simple/\n",
            "Collecting rdkit-pypi\n",
            "  Downloading rdkit_pypi-2022.9.5-cp310-cp310-manylinux_2_17_x86_64.manylinux2014_x86_64.whl (29.4 MB)\n",
            "\u001b[2K     \u001b[90m━━━━━━━━━━━━━━━━━━━━━━━━━━━━━━━━━━━━━━━━\u001b[0m \u001b[32m29.4/29.4 MB\u001b[0m \u001b[31m45.6 MB/s\u001b[0m eta \u001b[36m0:00:00\u001b[0m\n",
            "\u001b[?25hRequirement already satisfied: numpy in /usr/local/lib/python3.10/dist-packages (from rdkit-pypi) (1.22.4)\n",
            "Requirement already satisfied: Pillow in /usr/local/lib/python3.10/dist-packages (from rdkit-pypi) (8.4.0)\n",
            "Installing collected packages: rdkit-pypi\n",
            "Successfully installed rdkit-pypi-2022.9.5\n"
          ]
        }
      ]
    },
    {
      "cell_type": "code",
      "source": [
        "from molvecgen import SmilesVectorizer\n",
        "from rdkit import Chem\n",
        "from rdkit.Chem.Draw import IPythonConsole\n",
        "import numpy as np\n",
        "import matplotlib.pyplot as plt\n",
        "%matplotlib inline"
      ],
      "metadata": {
        "id": "4LVdFA8mFwVJ"
      },
      "execution_count": 3,
      "outputs": []
    },
    {
      "cell_type": "code",
      "source": [
        "smiles = [ \"CCC(=O)O[C@@]1(CC[NH+](C[C@H]1CC=C)C)c2ccccc2\",\n",
        "            \"CCC[S@@](=O)c1ccc2c(c1)[nH]/c(=N/C(=O)OC)/[nH]2\"]*10\n",
        "          \n",
        "mols =   [Chem.MolFromSmiles(smile) for smile in smiles]\n",
        "mols"
      ],
      "metadata": {
        "colab": {
          "base_uri": "https://localhost:8080/"
        },
        "id": "kq_LHz8hLqBM",
        "outputId": "c1c1d867-f2a4-4379-d985-a5336eccc257"
      },
      "execution_count": 4,
      "outputs": [
        {
          "output_type": "execute_result",
          "data": {
            "text/plain": [
              "[<rdkit.Chem.rdchem.Mol at 0x7f0a13c7d460>,\n",
              " <rdkit.Chem.rdchem.Mol at 0x7f0a13c7d4d0>,\n",
              " <rdkit.Chem.rdchem.Mol at 0x7f0a13c7d540>,\n",
              " <rdkit.Chem.rdchem.Mol at 0x7f0a13c7d5b0>,\n",
              " <rdkit.Chem.rdchem.Mol at 0x7f0a13c7d620>,\n",
              " <rdkit.Chem.rdchem.Mol at 0x7f0a13c7d690>,\n",
              " <rdkit.Chem.rdchem.Mol at 0x7f0a13c7d700>,\n",
              " <rdkit.Chem.rdchem.Mol at 0x7f0a13c7d770>,\n",
              " <rdkit.Chem.rdchem.Mol at 0x7f0a13c7d7e0>,\n",
              " <rdkit.Chem.rdchem.Mol at 0x7f0a13c7d850>,\n",
              " <rdkit.Chem.rdchem.Mol at 0x7f0a13c7d8c0>,\n",
              " <rdkit.Chem.rdchem.Mol at 0x7f0a13c7d930>,\n",
              " <rdkit.Chem.rdchem.Mol at 0x7f0a13c7d9a0>,\n",
              " <rdkit.Chem.rdchem.Mol at 0x7f0a13c7da10>,\n",
              " <rdkit.Chem.rdchem.Mol at 0x7f0a13c7da80>,\n",
              " <rdkit.Chem.rdchem.Mol at 0x7f0a13c7daf0>,\n",
              " <rdkit.Chem.rdchem.Mol at 0x7f0a13c7db60>,\n",
              " <rdkit.Chem.rdchem.Mol at 0x7f0a13c7dbd0>,\n",
              " <rdkit.Chem.rdchem.Mol at 0x7f0a13c7dc40>,\n",
              " <rdkit.Chem.rdchem.Mol at 0x7f0a13c7dcb0>]"
            ]
          },
          "metadata": {},
          "execution_count": 4
        }
      ]
    },
    {
      "cell_type": "code",
      "source": [
        "sm_en = SmilesVectorizer(canonical=True, augment=False)\n",
        "\n",
        "print(\"Default Charset %s\"%sm_en.charset)\n",
        "print(\"Default Maximum allowed SMILES length %s\"%sm_en.maxlength)"
      ],
      "metadata": {
        "colab": {
          "base_uri": "https://localhost:8080/"
        },
        "id": "TklZUrwGLvEe",
        "outputId": "566ddf47-1c7e-4dc1-8493-43636521f67f"
      },
      "execution_count": 5,
      "outputs": [
        {
          "output_type": "stream",
          "name": "stdout",
          "text": [
            "Default Charset @C)(=cOn1S2/H[N]\\^$?\n",
            "Default Maximum allowed SMILES length 120\n"
          ]
        }
      ]
    },
    {
      "cell_type": "code",
      "source": [
        "sm_en.fit(mols, extra_chars=[\"\\\\\"])\n",
        "print()\n",
        "print(\"After fitting\")\n",
        "print(\"Charset after fit %s\"%sm_en.charset)\n",
        "print(\"Maximum allowed SMILES length %s\"%sm_en.maxlength)"
      ],
      "metadata": {
        "colab": {
          "base_uri": "https://localhost:8080/"
        },
        "id": "_TVEsLiiMLsK",
        "outputId": "61a2989a-2d9c-48aa-a1bb-58e470623eb4"
      },
      "execution_count": 6,
      "outputs": [
        {
          "output_type": "stream",
          "name": "stdout",
          "text": [
            "\n",
            "After fitting\n",
            "Charset after fit (O)]1H+=[@NS/c2Cn\\^$?\n",
            "Maximum allowed SMILES length 45\n"
          ]
        }
      ]
    },
    {
      "cell_type": "code",
      "source": [
        "sm_en_no_extra = SmilesVectorizer(canonical=True, augment=False)\n",
        "\n",
        "print(\"Default Charset %s\"%sm_en_no_extra.charset)\n",
        "print(\"Default Maximum allowed SMILES length %s\"%sm_en_no_extra.maxlength)\n",
        "sm_en_no_extra.fit(mols)\n",
        "print()\n",
        "print(\"After fitting\")\n",
        "print(\"Charset after fit %s\"%sm_en_no_extra.charset)\n",
        "print(\"Maximum allowed SMILES length %s\"%sm_en_no_extra.maxlength)"
      ],
      "metadata": {
        "colab": {
          "base_uri": "https://localhost:8080/"
        },
        "id": "o-Lrk2jQMc4Z",
        "outputId": "c6cf945d-6a7f-44f7-a19c-1d3fedabd872"
      },
      "execution_count": 7,
      "outputs": [
        {
          "output_type": "stream",
          "name": "stdout",
          "text": [
            "Default Charset @C)(=cOn1S2/H[N]\\^$?\n",
            "Default Maximum allowed SMILES length 120\n",
            "\n",
            "After fitting\n",
            "Charset after fit (O)]1H+=[@NS/c2Cn\\^$?\n",
            "Maximum allowed SMILES length 45\n"
          ]
        }
      ]
    },
    {
      "cell_type": "code",
      "source": [
        "mol_vects = sm_en.transform(mols)\n",
        "plt.matshow(mol_vects[0].T)"
      ],
      "metadata": {
        "colab": {
          "base_uri": "https://localhost:8080/",
          "height": 454
        },
        "id": "oy6QolxaMqxO",
        "outputId": "50783190-8222-42e3-ac3a-0689f656bbfd"
      },
      "execution_count": 8,
      "outputs": [
        {
          "output_type": "execute_result",
          "data": {
            "text/plain": [
              "<matplotlib.image.AxesImage at 0x7f0a13ce1120>"
            ]
          },
          "metadata": {},
          "execution_count": 8
        },
        {
          "output_type": "display_data",
          "data": {
            "text/plain": [
              "<Figure size 1257.14x480 with 1 Axes>"
            ],
            "image/png": "[encoded data removed]"
          },
          "metadata": {}
        }
      ]
    },
    {
      "cell_type": "code",
      "source": [
        "mol_vects.shape"
      ],
      "metadata": {
        "colab": {
          "base_uri": "https://localhost:8080/"
        },
        "id": "W-AsS-o8OdPg",
        "outputId": "b0717462-38a4-4dc8-9236-6c68fa109ec3"
      },
      "execution_count": 12,
      "outputs": [
        {
          "output_type": "execute_result",
          "data": {
            "text/plain": [
              "(20, 55, 21)"
            ]
          },
          "metadata": {},
          "execution_count": 12
        }
      ]
    },
    {
      "cell_type": "code",
      "source": [
        "mol_vects"
      ],
      "metadata": {
        "colab": {
          "base_uri": "https://localhost:8080/"
        },
        "id": "jD-Z8JILRCml",
        "outputId": "ef7503c9-8c44-4856-bc6e-325cdac452f0"
      },
      "execution_count": 13,
      "outputs": [
        {
          "output_type": "execute_result",
          "data": {
            "text/plain": [
              "array([[[0, 0, 0, ..., 0, 0, 0],\n",
              "        [0, 0, 0, ..., 0, 0, 0],\n",
              "        [0, 0, 0, ..., 0, 0, 0],\n",
              "        ...,\n",
              "        [0, 0, 0, ..., 0, 0, 0],\n",
              "        [0, 0, 0, ..., 0, 0, 0],\n",
              "        [0, 0, 0, ..., 0, 1, 0]],\n",
              "\n",
              "       [[0, 0, 0, ..., 0, 0, 0],\n",
              "        [0, 0, 0, ..., 0, 0, 0],\n",
              "        [0, 0, 0, ..., 0, 0, 0],\n",
              "        ...,\n",
              "        [0, 0, 0, ..., 0, 0, 0],\n",
              "        [0, 0, 0, ..., 0, 0, 0],\n",
              "        [0, 0, 0, ..., 0, 1, 0]],\n",
              "\n",
              "       [[0, 0, 0, ..., 0, 0, 0],\n",
              "        [0, 0, 0, ..., 0, 0, 0],\n",
              "        [0, 0, 0, ..., 0, 0, 0],\n",
              "        ...,\n",
              "        [0, 0, 0, ..., 0, 0, 0],\n",
              "        [0, 0, 0, ..., 0, 0, 0],\n",
              "        [0, 0, 0, ..., 0, 1, 0]],\n",
              "\n",
              "       ...,\n",
              "\n",
              "       [[0, 0, 0, ..., 0, 0, 0],\n",
              "        [0, 0, 0, ..., 0, 0, 0],\n",
              "        [0, 0, 0, ..., 0, 0, 0],\n",
              "        ...,\n",
              "        [0, 0, 0, ..., 0, 0, 0],\n",
              "        [0, 0, 0, ..., 0, 0, 0],\n",
              "        [0, 0, 0, ..., 0, 1, 0]],\n",
              "\n",
              "       [[0, 0, 0, ..., 0, 0, 0],\n",
              "        [0, 0, 0, ..., 0, 0, 0],\n",
              "        [0, 0, 0, ..., 0, 0, 0],\n",
              "        ...,\n",
              "        [0, 0, 0, ..., 0, 0, 0],\n",
              "        [0, 0, 0, ..., 0, 0, 0],\n",
              "        [0, 0, 0, ..., 0, 1, 0]],\n",
              "\n",
              "       [[0, 0, 0, ..., 0, 0, 0],\n",
              "        [0, 0, 0, ..., 0, 0, 0],\n",
              "        [0, 0, 0, ..., 0, 0, 0],\n",
              "        ...,\n",
              "        [0, 0, 0, ..., 0, 0, 0],\n",
              "        [0, 0, 0, ..., 0, 0, 0],\n",
              "        [0, 0, 0, ..., 0, 1, 0]]], dtype=int8)"
            ]
          },
          "metadata": {},
          "execution_count": 13
        }
      ]
    },
    {
      "cell_type": "code",
      "source": [
        "#It's possible to strip the start and endchar\n",
        "sm_en.reverse_transform(mol_vects[0:2])"
      ],
      "metadata": {
        "colab": {
          "base_uri": "https://localhost:8080/"
        },
        "id": "zGtBgt9sM2KE",
        "outputId": "fa9e9003-d62e-4e87-8035-a6471076a7d3"
      },
      "execution_count": 9,
      "outputs": [
        {
          "output_type": "execute_result",
          "data": {
            "text/plain": [
              "array(['C=CC[C@@H]1C[NH+](C)CC[C@]1(OC(=O)CC)c1ccccc1',\n",
              "       'CCC[S@@](=O)c1ccc2[nH]/c(=N\\\\C(=O)OC)[nH]c2c1'], dtype='<U45')"
            ]
          },
          "metadata": {},
          "execution_count": 9
        }
      ]
    },
    {
      "cell_type": "code",
      "source": [
        "sm_en.reverse_transform(mol_vects[0:2], strip=False)"
      ],
      "metadata": {
        "colab": {
          "base_uri": "https://localhost:8080/"
        },
        "id": "PL6wbC-WM41-",
        "outputId": "16ec58b3-8536-49a4-da18-4c8adae0118c"
      },
      "execution_count": 10,
      "outputs": [
        {
          "output_type": "execute_result",
          "data": {
            "text/plain": [
              "array(['^C=CC[C@@H]1C[NH+](C)CC[C@]1(OC(=O)CC)c1ccccc1$',\n",
              "       '^CCC[S@@](=O)c1ccc2[nH]/c(=N\\\\C(=O)OC)[nH]c2c1$'], dtype='<U47')"
            ]
          },
          "metadata": {},
          "execution_count": 10
        }
      ]
    },
    {
      "cell_type": "code",
      "source": [
        "import numpy as np\n",
        "import pandas as pd\n",
        "import matplotlib.pyplot as plt\n",
        "from rdkit import Chem, DataStructs\n",
        "from rdkit.Chem import PandasTools, AllChem\n",
        "from sklearn.preprocessing import StandardScaler\n",
        "from sklearn.model_selection import train_test_split"
      ],
      "metadata": {
        "id": "KKr7PZgPM73L"
      },
      "execution_count": 4,
      "outputs": []
    },
    {
      "cell_type": "code",
      "source": [
        "data = pd.read_csv(\"/content/Chembl_pIC50_maccs.csv\")\n",
        "data.head(1)"
      ],
      "metadata": {
        "colab": {
          "base_uri": "https://localhost:8080/",
          "height": 110
        },
        "id": "YevEX8T1t2Xs",
        "outputId": "ce115d07-1738-4fec-f681-7d7c3bfa1f59"
      },
      "execution_count": 5,
      "outputs": [
        {
          "output_type": "execute_result",
          "data": {
            "text/plain": [
              "                                      SMILES    pIC50    0    1    2    3  \\\n",
              "0  CC12CCC(C1)C(C)(C)C2NS(=O)(=O)c1ccc(F)cc1  5.30103  0.0  0.0  0.0  0.0   \n",
              "\n",
              "     4    5    6    7  ...  157  158  159  160  161  162  163  164  165  166  \n",
              "0  0.0  0.0  0.0  0.0  ...  0.0  1.0  1.0  1.0  1.0  1.0  1.0  1.0  1.0  0.0  \n",
              "\n",
              "[1 rows x 169 columns]"
            ],
            "text/html": [
              "\n",
              "  <div id=\"df-5594dc27-45bf-4483-8d52-4c2f0abb9262\">\n",
              "    <div class=\"colab-df-container\">\n",
              "      <div>\n",
              "<style scoped>\n",
              "    .dataframe tbody tr th:only-of-type {\n",
              "        vertical-align: middle;\n",
              "    }\n",
              "\n",
              "    .dataframe tbody tr th {\n",
              "        vertical-align: top;\n",
              "    }\n",
              "\n",
              "    .dataframe thead th {\n",
              "        text-align: right;\n",
              "    }\n",
              "</style>\n",
              "<table border=\"1\" class=\"dataframe\">\n",
              "  <thead>\n",
              "    <tr style=\"text-align: right;\">\n",
              "      <th></th>\n",
              "      <th>SMILES</th>\n",
              "      <th>pIC50</th>\n",
              "      <th>0</th>\n",
              "      <th>1</th>\n",
              "      <th>2</th>\n",
              "      <th>3</th>\n",
              "      <th>4</th>\n",
              "      <th>5</th>\n",
              "      <th>6</th>\n",
              "      <th>7</th>\n",
              "      <th>...</th>\n",
              "      <th>157</th>\n",
              "      <th>158</th>\n",
              "      <th>159</th>\n",
              "      <th>160</th>\n",
              "      <th>161</th>\n",
              "      <th>162</th>\n",
              "      <th>163</th>\n",
              "      <th>164</th>\n",
              "      <th>165</th>\n",
              "      <th>166</th>\n",
              "    </tr>\n",
              "  </thead>\n",
              "  <tbody>\n",
              "    <tr>\n",
              "      <th>0</th>\n",
              "      <td>CC12CCC(C1)C(C)(C)C2NS(=O)(=O)c1ccc(F)cc1</td>\n",
              "      <td>5.30103</td>\n",
              "      <td>0.0</td>\n",
              "      <td>0.0</td>\n",
              "      <td>0.0</td>\n",
              "      <td>0.0</td>\n",
              "      <td>0.0</td>\n",
              "      <td>0.0</td>\n",
              "      <td>0.0</td>\n",
              "      <td>0.0</td>\n",
              "      <td>...</td>\n",
              "      <td>0.0</td>\n",
              "      <td>1.0</td>\n",
              "      <td>1.0</td>\n",
              "      <td>1.0</td>\n",
              "      <td>1.0</td>\n",
              "      <td>1.0</td>\n",
              "      <td>1.0</td>\n",
              "      <td>1.0</td>\n",
              "      <td>1.0</td>\n",
              "      <td>0.0</td>\n",
              "    </tr>\n",
              "  </tbody>\n",
              "</table>\n",
              "<p>1 rows × 169 columns</p>\n",
              "</div>\n",
              "      <button class=\"colab-df-convert\" onclick=\"convertToInteractive('df-5594dc27-45bf-4483-8d52-4c2f0abb9262')\"\n",
              "              title=\"Convert this dataframe to an interactive table.\"\n",
              "              style=\"display:none;\">\n",
              "        \n",
              "  <svg xmlns=\"http://www.w3.org/2000/svg\" height=\"24px\"viewBox=\"0 0 24 24\"\n",
              "       width=\"24px\">\n",
              "    <path d=\"M0 0h24v24H0V0z\" fill=\"none\"/>\n",
              "    <path d=\"M18.56 5.44l.94 2.06.94-2.06 2.06-.94-2.06-.94-.94-2.06-.94 2.06-2.06.94zm-11 1L8.5 8.5l.94-2.06 2.06-.94-2.06-.94L8.5 2.5l-.94 2.06-2.06.94zm10 10l.94 2.06.94-2.06 2.06-.94-2.06-.94-.94-2.06-.94 2.06-2.06.94z\"/><path d=\"M17.41 7.96l-1.37-1.37c-.4-.4-.92-.59-1.43-.59-.52 0-1.04.2-1.43.59L10.3 9.45l-7.72 7.72c-.78.78-.78 2.05 0 2.83L4 21.41c.39.39.9.59 1.41.59.51 0 1.02-.2 1.41-.59l7.78-7.78 2.81-2.81c.8-.78.8-2.07 0-2.86zM5.41 20L4 18.59l7.72-7.72 1.47 1.35L5.41 20z\"/>\n",
              "  </svg>\n",
              "      </button>\n",
              "      \n",
              "  <style>\n",
              "    .colab-df-container {\n",
              "      display:flex;\n",
              "      flex-wrap:wrap;\n",
              "      gap: 12px;\n",
              "    }\n",
              "\n",
              "    .colab-df-convert {\n",
              "      background-color: #E8F0FE;\n",
              "      border: none;\n",
              "      border-radius: 50%;\n",
              "      cursor: pointer;\n",
              "      display: none;\n",
              "      fill: #1967D2;\n",
              "      height: 32px;\n",
              "      padding: 0 0 0 0;\n",
              "      width: 32px;\n",
              "    }\n",
              "\n",
              "    .colab-df-convert:hover {\n",
              "      background-color: #E2EBFA;\n",
              "      box-shadow: 0px 1px 2px rgba(60, 64, 67, 0.3), 0px 1px 3px 1px rgba(60, 64, 67, 0.15);\n",
              "      fill: #174EA6;\n",
              "    }\n",
              "\n",
              "    [theme=dark] .colab-df-convert {\n",
              "      background-color: #3B4455;\n",
              "      fill: #D2E3FC;\n",
              "    }\n",
              "\n",
              "    [theme=dark] .colab-df-convert:hover {\n",
              "      background-color: #434B5C;\n",
              "      box-shadow: 0px 1px 3px 1px rgba(0, 0, 0, 0.15);\n",
              "      filter: drop-shadow(0px 1px 2px rgba(0, 0, 0, 0.3));\n",
              "      fill: #FFFFFF;\n",
              "    }\n",
              "  </style>\n",
              "\n",
              "      <script>\n",
              "        const buttonEl =\n",
              "          document.querySelector('#df-5594dc27-45bf-4483-8d52-4c2f0abb9262 button.colab-df-convert');\n",
              "        buttonEl.style.display =\n",
              "          google.colab.kernel.accessAllowed ? 'block' : 'none';\n",
              "\n",
              "        async function convertToInteractive(key) {\n",
              "          const element = document.querySelector('#df-5594dc27-45bf-4483-8d52-4c2f0abb9262');\n",
              "          const dataTable =\n",
              "            await google.colab.kernel.invokeFunction('convertToInteractive',\n",
              "                                                     [key], {});\n",
              "          if (!dataTable) return;\n",
              "\n",
              "          const docLinkHtml = 'Like what you see? Visit the ' +\n",
              "            '<a target=\"_blank\" href=https://colab.research.google.com/notebooks/data_table.ipynb>data table notebook</a>'\n",
              "            + ' to learn more about interactive tables.';\n",
              "          element.innerHTML = '';\n",
              "          dataTable['output_type'] = 'display_data';\n",
              "          await google.colab.output.renderOutput(dataTable, element);\n",
              "          const docLink = document.createElement('div');\n",
              "          docLink.innerHTML = docLinkHtml;\n",
              "          element.appendChild(docLink);\n",
              "        }\n",
              "      </script>\n",
              "    </div>\n",
              "  </div>\n",
              "  "
            ]
          },
          "metadata": {},
          "execution_count": 5
        }
      ]
    },
    {
      "cell_type": "code",
      "source": [
        "data['Molecule'] = [ Chem.MolFromSmiles(i) for i in data['SMILES']]\n",
        "data.head(1)"
      ],
      "metadata": {
        "colab": {
          "base_uri": "https://localhost:8080/",
          "height": 110
        },
        "id": "dQK7GHeYuOUj",
        "outputId": "f45f2611-f3b7-4333-872d-717f73dfce8a"
      },
      "execution_count": 6,
      "outputs": [
        {
          "output_type": "execute_result",
          "data": {
            "text/plain": [
              "                                      SMILES    pIC50    0    1    2    3  \\\n",
              "0  CC12CCC(C1)C(C)(C)C2NS(=O)(=O)c1ccc(F)cc1  5.30103  0.0  0.0  0.0  0.0   \n",
              "\n",
              "     4    5    6    7  ...  158  159  160  161  162  163  164  165  166  \\\n",
              "0  0.0  0.0  0.0  0.0  ...  1.0  1.0  1.0  1.0  1.0  1.0  1.0  1.0  0.0   \n",
              "\n",
              "                                           Molecule  \n",
              "0  <rdkit.Chem.rdchem.Mol object at 0x7fa240b7ee30>  \n",
              "\n",
              "[1 rows x 170 columns]"
            ],
            "text/html": [
              "\n",
              "  <div id=\"df-4998ecc2-f986-41bd-b393-402b0cf6cc2e\">\n",
              "    <div class=\"colab-df-container\">\n",
              "      <div>\n",
              "<style scoped>\n",
              "    .dataframe tbody tr th:only-of-type {\n",
              "        vertical-align: middle;\n",
              "    }\n",
              "\n",
              "    .dataframe tbody tr th {\n",
              "        vertical-align: top;\n",
              "    }\n",
              "\n",
              "    .dataframe thead th {\n",
              "        text-align: right;\n",
              "    }\n",
              "</style>\n",
              "<table border=\"1\" class=\"dataframe\">\n",
              "  <thead>\n",
              "    <tr style=\"text-align: right;\">\n",
              "      <th></th>\n",
              "      <th>SMILES</th>\n",
              "      <th>pIC50</th>\n",
              "      <th>0</th>\n",
              "      <th>1</th>\n",
              "      <th>2</th>\n",
              "      <th>3</th>\n",
              "      <th>4</th>\n",
              "      <th>5</th>\n",
              "      <th>6</th>\n",
              "      <th>7</th>\n",
              "      <th>...</th>\n",
              "      <th>158</th>\n",
              "      <th>159</th>\n",
              "      <th>160</th>\n",
              "      <th>161</th>\n",
              "      <th>162</th>\n",
              "      <th>163</th>\n",
              "      <th>164</th>\n",
              "      <th>165</th>\n",
              "      <th>166</th>\n",
              "      <th>Molecule</th>\n",
              "    </tr>\n",
              "  </thead>\n",
              "  <tbody>\n",
              "    <tr>\n",
              "      <th>0</th>\n",
              "      <td>CC12CCC(C1)C(C)(C)C2NS(=O)(=O)c1ccc(F)cc1</td>\n",
              "      <td>5.30103</td>\n",
              "      <td>0.0</td>\n",
              "      <td>0.0</td>\n",
              "      <td>0.0</td>\n",
              "      <td>0.0</td>\n",
              "      <td>0.0</td>\n",
              "      <td>0.0</td>\n",
              "      <td>0.0</td>\n",
              "      <td>0.0</td>\n",
              "      <td>...</td>\n",
              "      <td>1.0</td>\n",
              "      <td>1.0</td>\n",
              "      <td>1.0</td>\n",
              "      <td>1.0</td>\n",
              "      <td>1.0</td>\n",
              "      <td>1.0</td>\n",
              "      <td>1.0</td>\n",
              "      <td>1.0</td>\n",
              "      <td>0.0</td>\n",
              "      <td>&lt;rdkit.Chem.rdchem.Mol object at 0x7fa240b7ee30&gt;</td>\n",
              "    </tr>\n",
              "  </tbody>\n",
              "</table>\n",
              "<p>1 rows × 170 columns</p>\n",
              "</div>\n",
              "      <button class=\"colab-df-convert\" onclick=\"convertToInteractive('df-4998ecc2-f986-41bd-b393-402b0cf6cc2e')\"\n",
              "              title=\"Convert this dataframe to an interactive table.\"\n",
              "              style=\"display:none;\">\n",
              "        \n",
              "  <svg xmlns=\"http://www.w3.org/2000/svg\" height=\"24px\"viewBox=\"0 0 24 24\"\n",
              "       width=\"24px\">\n",
              "    <path d=\"M0 0h24v24H0V0z\" fill=\"none\"/>\n",
              "    <path d=\"M18.56 5.44l.94 2.06.94-2.06 2.06-.94-2.06-.94-.94-2.06-.94 2.06-2.06.94zm-11 1L8.5 8.5l.94-2.06 2.06-.94-2.06-.94L8.5 2.5l-.94 2.06-2.06.94zm10 10l.94 2.06.94-2.06 2.06-.94-2.06-.94-.94-2.06-.94 2.06-2.06.94z\"/><path d=\"M17.41 7.96l-1.37-1.37c-.4-.4-.92-.59-1.43-.59-.52 0-1.04.2-1.43.59L10.3 9.45l-7.72 7.72c-.78.78-.78 2.05 0 2.83L4 21.41c.39.39.9.59 1.41.59.51 0 1.02-.2 1.41-.59l7.78-7.78 2.81-2.81c.8-.78.8-2.07 0-2.86zM5.41 20L4 18.59l7.72-7.72 1.47 1.35L5.41 20z\"/>\n",
              "  </svg>\n",
              "      </button>\n",
              "      \n",
              "  <style>\n",
              "    .colab-df-container {\n",
              "      display:flex;\n",
              "      flex-wrap:wrap;\n",
              "      gap: 12px;\n",
              "    }\n",
              "\n",
              "    .colab-df-convert {\n",
              "      background-color: #E8F0FE;\n",
              "      border: none;\n",
              "      border-radius: 50%;\n",
              "      cursor: pointer;\n",
              "      display: none;\n",
              "      fill: #1967D2;\n",
              "      height: 32px;\n",
              "      padding: 0 0 0 0;\n",
              "      width: 32px;\n",
              "    }\n",
              "\n",
              "    .colab-df-convert:hover {\n",
              "      background-color: #E2EBFA;\n",
              "      box-shadow: 0px 1px 2px rgba(60, 64, 67, 0.3), 0px 1px 3px 1px rgba(60, 64, 67, 0.15);\n",
              "      fill: #174EA6;\n",
              "    }\n",
              "\n",
              "    [theme=dark] .colab-df-convert {\n",
              "      background-color: #3B4455;\n",
              "      fill: #D2E3FC;\n",
              "    }\n",
              "\n",
              "    [theme=dark] .colab-df-convert:hover {\n",
              "      background-color: #434B5C;\n",
              "      box-shadow: 0px 1px 3px 1px rgba(0, 0, 0, 0.15);\n",
              "      filter: drop-shadow(0px 1px 2px rgba(0, 0, 0, 0.3));\n",
              "      fill: #FFFFFF;\n",
              "    }\n",
              "  </style>\n",
              "\n",
              "      <script>\n",
              "        const buttonEl =\n",
              "          document.querySelector('#df-4998ecc2-f986-41bd-b393-402b0cf6cc2e button.colab-df-convert');\n",
              "        buttonEl.style.display =\n",
              "          google.colab.kernel.accessAllowed ? 'block' : 'none';\n",
              "\n",
              "        async function convertToInteractive(key) {\n",
              "          const element = document.querySelector('#df-4998ecc2-f986-41bd-b393-402b0cf6cc2e');\n",
              "          const dataTable =\n",
              "            await google.colab.kernel.invokeFunction('convertToInteractive',\n",
              "                                                     [key], {});\n",
              "          if (!dataTable) return;\n",
              "\n",
              "          const docLinkHtml = 'Like what you see? Visit the ' +\n",
              "            '<a target=\"_blank\" href=https://colab.research.google.com/notebooks/data_table.ipynb>data table notebook</a>'\n",
              "            + ' to learn more about interactive tables.';\n",
              "          element.innerHTML = '';\n",
              "          dataTable['output_type'] = 'display_data';\n",
              "          await google.colab.output.renderOutput(dataTable, element);\n",
              "          const docLink = document.createElement('div');\n",
              "          docLink.innerHTML = docLinkHtml;\n",
              "          element.appendChild(docLink);\n",
              "        }\n",
              "      </script>\n",
              "    </div>\n",
              "  </div>\n",
              "  "
            ]
          },
          "metadata": {},
          "execution_count": 6
        }
      ]
    },
    {
      "cell_type": "code",
      "source": [
        "from molvecgen.vectorizers import SmilesVectorizer\n"
      ],
      "metadata": {
        "id": "TG7vB0j1ucGK"
      },
      "execution_count": 7,
      "outputs": []
    },
    {
      "cell_type": "code",
      "source": [
        "smivec = SmilesVectorizer(pad=1, leftpad=True, canonical=False, augment=True)\n",
        "smivec.fit(data.Molecule.values, )"
      ],
      "metadata": {
        "id": "wh7FLAukugpm"
      },
      "execution_count": 8,
      "outputs": []
    },
    {
      "cell_type": "code",
      "source": [
        "y = data.pIC50.values.reshape((-1, 1))\n",
        "X = data.SMILES.values"
      ],
      "metadata": {
        "id": "HfcL7VYoxWIi"
      },
      "execution_count": 16,
      "outputs": []
    },
    {
      "cell_type": "code",
      "source": [
        "X_train, X_test, y_train, y_test = train_test_split(X, y, test_size=0.10, random_state=42)\n",
        "X_train, X_validation, y_train, y_validation = train_test_split(X_train, y_train, test_size=0.05, random_state=42)"
      ],
      "metadata": {
        "id": "DRm-Ue5mxbfy"
      },
      "execution_count": 17,
      "outputs": []
    },
    {
      "cell_type": "code",
      "source": [
        "# Normalizing output using standard scaling\n",
        "scaler = StandardScaler()\n",
        "y_train = scaler.fit_transform(y_train)\n",
        "y_test = scaler.transform(y_test)\n",
        "y_validation = scaler.transform(y_validation)"
      ],
      "metadata": {
        "id": "ZtD5rF2axf8j"
      },
      "execution_count": 18,
      "outputs": []
    },
    {
      "cell_type": "code",
      "source": [
        "def preprocess_input(smiles):\n",
        "    mol = Chem.MolFromSmiles(smiles)\n",
        "    return smivec.transform([mol])[0]\n",
        "\n",
        "def preprocess_output(y):\n",
        "    return y.reshape((-1, 1))"
      ],
      "metadata": {
        "id": "YjHApdq3xkuA"
      },
      "execution_count": 55,
      "outputs": []
    },
    {
      "cell_type": "code",
      "source": [
        "# Preprocess the training dataset\n",
        "X_train_preprocessed = [preprocess_input(x) for x in X_train]\n",
        "X_train_preprocessed = np.array(X_train_preprocessed)\n",
        "y_train_preprocessed = preprocess_output(y_train)"
      ],
      "metadata": {
        "id": "edu1dZgz7kD3"
      },
      "execution_count": 56,
      "outputs": []
    },
    {
      "cell_type": "code",
      "source": [
        "y_train_preprocessed"
      ],
      "metadata": {
        "id": "1Qcalvm08AUC"
      },
      "execution_count": null,
      "outputs": []
    },
    {
      "cell_type": "code",
      "source": [
        "import tensorflow as tf\n",
        "batch_size = 128\n",
        "train_dataset = tf.data.Dataset.from_tensor_slices((X_train_preprocessed, y_train_preprocessed))\n",
        "train_dataset = train_dataset.batch(batch_size)"
      ],
      "metadata": {
        "id": "h-_SidJ77tKi"
      },
      "execution_count": 57,
      "outputs": []
    },
    {
      "cell_type": "code",
      "source": [
        "next(iter(train_dataset.take(1)))"
      ],
      "metadata": {
        "colab": {
          "base_uri": "https://localhost:8080/"
        },
        "id": "FQiO5wrb7yKv",
        "outputId": "c0053efc-9019-4b90-94fd-1d4c5973eeab"
      },
      "execution_count": 58,
      "outputs": [
        {
          "output_type": "execute_result",
          "data": {
            "text/plain": [
              "(<tf.Tensor: shape=(128, 212, 37), dtype=int8, numpy=\n",
              " array([[[0, 0, 0, ..., 0, 0, 0],\n",
              "         [0, 0, 0, ..., 0, 0, 0],\n",
              "         [0, 0, 0, ..., 0, 0, 0],\n",
              "         ...,\n",
              "         [0, 0, 0, ..., 0, 0, 0],\n",
              "         [0, 0, 0, ..., 0, 0, 0],\n",
              "         [0, 0, 0, ..., 0, 1, 0]],\n",
              " \n",
              "        [[0, 0, 0, ..., 0, 0, 0],\n",
              "         [0, 0, 0, ..., 0, 0, 0],\n",
              "         [0, 0, 0, ..., 0, 0, 0],\n",
              "         ...,\n",
              "         [0, 0, 0, ..., 0, 0, 0],\n",
              "         [0, 0, 0, ..., 0, 0, 0],\n",
              "         [0, 0, 0, ..., 0, 1, 0]],\n",
              " \n",
              "        [[0, 0, 0, ..., 0, 0, 0],\n",
              "         [0, 0, 0, ..., 0, 0, 0],\n",
              "         [0, 0, 0, ..., 0, 0, 0],\n",
              "         ...,\n",
              "         [0, 0, 0, ..., 0, 0, 0],\n",
              "         [0, 0, 0, ..., 0, 0, 0],\n",
              "         [0, 0, 0, ..., 0, 1, 0]],\n",
              " \n",
              "        ...,\n",
              " \n",
              "        [[0, 0, 0, ..., 0, 0, 0],\n",
              "         [0, 0, 0, ..., 0, 0, 0],\n",
              "         [0, 0, 0, ..., 0, 0, 0],\n",
              "         ...,\n",
              "         [0, 0, 0, ..., 0, 0, 0],\n",
              "         [0, 0, 0, ..., 0, 0, 0],\n",
              "         [0, 0, 0, ..., 0, 1, 0]],\n",
              " \n",
              "        [[0, 0, 0, ..., 0, 0, 0],\n",
              "         [0, 0, 0, ..., 0, 0, 0],\n",
              "         [0, 0, 0, ..., 0, 0, 0],\n",
              "         ...,\n",
              "         [0, 0, 0, ..., 0, 0, 0],\n",
              "         [0, 0, 0, ..., 0, 0, 0],\n",
              "         [0, 0, 0, ..., 0, 1, 0]],\n",
              " \n",
              "        [[0, 0, 0, ..., 0, 0, 0],\n",
              "         [0, 0, 0, ..., 0, 0, 0],\n",
              "         [0, 0, 0, ..., 0, 0, 0],\n",
              "         ...,\n",
              "         [0, 0, 1, ..., 0, 0, 0],\n",
              "         [0, 0, 0, ..., 0, 0, 0],\n",
              "         [0, 0, 0, ..., 0, 1, 0]]], dtype=int8)>,\n",
              " <tf.Tensor: shape=(128, 1), dtype=float64, numpy=\n",
              " array([[-0.85397423],\n",
              "        [ 1.49924071],\n",
              "        [ 1.40219578],\n",
              "        [-0.12750062],\n",
              "        [-0.97805791],\n",
              "        [-0.06395416],\n",
              "        [ 1.28143363],\n",
              "        [-0.09165305],\n",
              "        [-0.18907693],\n",
              "        [ 0.52616319],\n",
              "        [-0.30248668],\n",
              "        [-0.24075471],\n",
              "        [ 0.27796049],\n",
              "        [ 0.50135897],\n",
              "        [-0.78471593],\n",
              "        [ 0.67405378],\n",
              "        [-0.95417321],\n",
              "        [-1.15458908],\n",
              "        [-1.63416758],\n",
              "        [-0.5657025 ],\n",
              "        [ 0.82147992],\n",
              "        [-0.79599527],\n",
              "        [-0.43934896],\n",
              "        [ 1.05336895],\n",
              "        [ 0.10275548],\n",
              "        [-0.57002869],\n",
              "        [ 0.63928161],\n",
              "        [-1.11513578],\n",
              "        [ 2.69374273],\n",
              "        [ 1.05138964],\n",
              "        [ 0.29012404],\n",
              "        [-0.82802837],\n",
              "        [-0.28527999],\n",
              "        [ 0.04864816],\n",
              "        [-0.66274743],\n",
              "        [ 0.59169914],\n",
              "        [-0.89567259],\n",
              "        [ 0.04864816],\n",
              "        [-1.31214236],\n",
              "        [ 0.15128449],\n",
              "        [ 1.07669414],\n",
              "        [-0.31505153],\n",
              "        [-0.86859491],\n",
              "        [-1.04558447],\n",
              "        [-0.88614591],\n",
              "        [ 1.07883565],\n",
              "        [ 1.85891031],\n",
              "        [-1.62825958],\n",
              "        [ 0.1943211 ],\n",
              "        [-1.7367032 ],\n",
              "        [-0.94490739],\n",
              "        [-0.92425011],\n",
              "        [-0.18907693],\n",
              "        [ 2.30570727],\n",
              "        [ 1.2317515 ],\n",
              "        [ 0.12056641],\n",
              "        [ 1.0334175 ],\n",
              "        [-0.79342716],\n",
              "        [ 0.65046062],\n",
              "        [-0.86500144],\n",
              "        [ 2.15422704],\n",
              "        [-0.95806415],\n",
              "        [ 1.2556362 ],\n",
              "        [-0.38315558],\n",
              "        [-0.66595438],\n",
              "        [-0.84768094],\n",
              "        [ 2.15422704],\n",
              "        [ 0.04864816],\n",
              "        [ 0.37710929],\n",
              "        [ 1.67854845],\n",
              "        [ 2.30570727],\n",
              "        [-0.14403223],\n",
              "        [-0.85057313],\n",
              "        [-1.01682564],\n",
              "        [-0.27471197],\n",
              "        [ 1.24347264],\n",
              "        [-0.41940677],\n",
              "        [ 1.15983326],\n",
              "        [-0.50343777],\n",
              "        [-0.32896574],\n",
              "        [ 0.50135897],\n",
              "        [ 0.62847738],\n",
              "        [ 2.08230879],\n",
              "        [ 1.72823058],\n",
              "        [-0.9241069 ],\n",
              "        [ 0.07936624],\n",
              "        [-0.66976107],\n",
              "        [ 2.22114835],\n",
              "        [-0.22859115],\n",
              "        [ 1.62364685],\n",
              "        [-0.83996311],\n",
              "        [-0.97070483],\n",
              "        [-1.1373191 ],\n",
              "        [-0.76655362],\n",
              "        [-0.47240252],\n",
              "        [-0.0897516 ],\n",
              "        [ 1.34019512],\n",
              "        [-1.16830587],\n",
              "        [-1.10360815],\n",
              "        [-0.94758206],\n",
              "        [ 1.78699207],\n",
              "        [-1.69274442],\n",
              "        [ 0.30276472],\n",
              "        [-0.64621582],\n",
              "        [-0.02443994],\n",
              "        [-0.12750062],\n",
              "        [-1.2145162 ],\n",
              "        [ 1.18871488],\n",
              "        [ 0.52616319],\n",
              "        [ 0.55585157],\n",
              "        [ 0.7681353 ],\n",
              "        [ 1.18871488],\n",
              "        [ 0.95539883],\n",
              "        [-1.13657904],\n",
              "        [-0.94221034],\n",
              "        [-0.27471197],\n",
              "        [ 0.24400323],\n",
              "        [-1.40486111],\n",
              "        [-0.36743071],\n",
              "        [-1.07261912],\n",
              "        [-0.57556729],\n",
              "        [-1.54490059],\n",
              "        [ 1.95162906],\n",
              "        [-0.84200238],\n",
              "        [ 0.95248211],\n",
              "        [-0.74230942],\n",
              "        [-0.4187203 ],\n",
              "        [-0.35089909]])>)"
            ]
          },
          "metadata": {},
          "execution_count": 58
        }
      ]
    },
    {
      "cell_type": "code",
      "source": [
        "X_validation_preprocessed = [preprocess_input(x) for x in X_validation]\n",
        "X_validation_preprocessed = np.array(X_validation_preprocessed)\n",
        "y_validation_preprocessed = preprocess_output(y_validation)"
      ],
      "metadata": {
        "id": "5Dqjwf2-9pal"
      },
      "execution_count": 60,
      "outputs": []
    },
    {
      "cell_type": "code",
      "source": [
        "lstm_size = 128  # The size of the LSTM layer\n",
        "hidden_size = 128  # The size of the hidden non-linear layer\n",
        "dropout_rate = 0.50  # The dropout rate\n",
        "output_size = 1  # This is just a single task, so this will be one\n",
        "learning_rate = 0.003\n",
        "epochs = 10"
      ],
      "metadata": {
        "id": "mIoW4cAJ8M_I"
      },
      "execution_count": 61,
      "outputs": []
    },
    {
      "cell_type": "code",
      "source": [
        "# Create the model\n",
        "model = tf.keras.Sequential([\n",
        "    tf.keras.layers.LSTM(units=lstm_size, input_shape=(smivec.dims[0], smivec.dims[1])),\n",
        "    tf.keras.layers.Dense(hidden_size, activation='relu'),\n",
        "    tf.keras.layers.Dropout(dropout_rate),\n",
        "    tf.keras.layers.Dense(output_size)\n",
        "])\n",
        "\n"
      ],
      "metadata": {
        "id": "3BccMKsd8W_v"
      },
      "execution_count": 63,
      "outputs": []
    },
    {
      "cell_type": "code",
      "source": [
        "# Compile the model\n",
        "model.compile(optimizer=tf.keras.optimizers.Adam(learning_rate=learning_rate),\n",
        "              loss='mean_squared_error')\n",
        "\n"
      ],
      "metadata": {
        "id": "TuaoI_Z58Z1Q"
      },
      "execution_count": 64,
      "outputs": []
    },
    {
      "cell_type": "code",
      "source": [
        "# Train the model\n",
        "model.fit(train_dataset, epochs=epochs, validation_data=(X_validation_preprocessed, y_validation_preprocessed))\n",
        "\n",
        "# Preprocess the test data\n",
        "X_test_preprocessed = [preprocess_input(x) for x in X_test]\n",
        "X_test_preprocessed = np.array(X_test_preprocessed)\n",
        "X_test_t = tf.convert_to_tensor(X_test_preprocessed, dtype=tf.float32)\n",
        "\n",
        "# Prediction\n",
        "y_pred = model.predict(X_test_t)\n",
        "\n",
        "# Inverse scaling on predictions\n",
        "y_pred = scaler.inverse_transform(y_pred)\n",
        "\n",
        "# Print the predictions\n",
        "print(y_pred)"
      ],
      "metadata": {
        "colab": {
          "base_uri": "https://localhost:8080/"
        },
        "id": "GDXEz3Zl8c1V",
        "outputId": "aed78faa-df19-47e6-c2cc-8ab733af9ee9"
      },
      "execution_count": 65,
      "outputs": [
        {
          "output_type": "stream",
          "name": "stdout",
          "text": [
            "Epoch 1/10\n",
            "8/8 [==============================] - 8s 634ms/step - loss: 0.9818 - val_loss: 0.8199\n",
            "Epoch 2/10\n",
            "8/8 [==============================] - 7s 843ms/step - loss: 0.9039 - val_loss: 0.8534\n",
            "Epoch 3/10\n",
            "8/8 [==============================] - 6s 753ms/step - loss: 0.9153 - val_loss: 0.8718\n",
            "Epoch 4/10\n",
            "8/8 [==============================] - 6s 706ms/step - loss: 0.8773 - val_loss: 0.8790\n",
            "Epoch 5/10\n",
            "8/8 [==============================] - 4s 516ms/step - loss: 0.8101 - val_loss: 0.8089\n",
            "Epoch 6/10\n",
            "8/8 [==============================] - 6s 761ms/step - loss: 0.7341 - val_loss: 0.7111\n",
            "Epoch 7/10\n",
            "8/8 [==============================] - 4s 528ms/step - loss: 0.7139 - val_loss: 0.6106\n",
            "Epoch 8/10\n",
            "8/8 [==============================] - 4s 524ms/step - loss: 0.7015 - val_loss: 0.6600\n",
            "Epoch 9/10\n",
            "8/8 [==============================] - 5s 646ms/step - loss: 0.6408 - val_loss: 0.5575\n",
            "Epoch 10/10\n",
            "8/8 [==============================] - 4s 523ms/step - loss: 0.6184 - val_loss: 0.3917\n",
            "4/4 [==============================] - 1s 82ms/step\n",
            "[[7.67971  ]\n",
            " [5.269241 ]\n",
            " [5.635264 ]\n",
            " [5.363528 ]\n",
            " [5.355921 ]\n",
            " [5.533999 ]\n",
            " [5.9030843]\n",
            " [5.7954407]\n",
            " [7.9930773]\n",
            " [5.1924605]\n",
            " [5.927956 ]\n",
            " [5.485598 ]\n",
            " [6.9563847]\n",
            " [5.248911 ]\n",
            " [5.1098523]\n",
            " [8.184851 ]\n",
            " [6.5145135]\n",
            " [7.6069946]\n",
            " [5.1626577]\n",
            " [7.906288 ]\n",
            " [5.2435346]\n",
            " [5.125121 ]\n",
            " [8.0416155]\n",
            " [5.257294 ]\n",
            " [5.2393436]\n",
            " [5.427051 ]\n",
            " [5.391891 ]\n",
            " [7.430025 ]\n",
            " [7.445474 ]\n",
            " [6.4385724]\n",
            " [5.3403325]\n",
            " [5.3827147]\n",
            " [6.148213 ]\n",
            " [5.3949623]\n",
            " [5.2233934]\n",
            " [5.469904 ]\n",
            " [5.46456  ]\n",
            " [6.9250197]\n",
            " [5.1994295]\n",
            " [7.9054184]\n",
            " [5.571561 ]\n",
            " [5.454169 ]\n",
            " [8.616065 ]\n",
            " [5.348218 ]\n",
            " [5.177365 ]\n",
            " [5.292425 ]\n",
            " [5.242136 ]\n",
            " [5.944776 ]\n",
            " [7.4411464]\n",
            " [5.9111605]\n",
            " [5.205614 ]\n",
            " [6.688203 ]\n",
            " [5.205212 ]\n",
            " [5.333484 ]\n",
            " [8.305649 ]\n",
            " [5.195209 ]\n",
            " [5.3685107]\n",
            " [5.1911826]\n",
            " [5.500989 ]\n",
            " [5.094865 ]\n",
            " [7.423125 ]\n",
            " [5.701861 ]\n",
            " [5.7765956]\n",
            " [5.706715 ]\n",
            " [5.528883 ]\n",
            " [5.4480996]\n",
            " [5.324171 ]\n",
            " [5.25952  ]\n",
            " [7.77639  ]\n",
            " [7.047345 ]\n",
            " [5.4373465]\n",
            " [7.999712 ]\n",
            " [5.473011 ]\n",
            " [5.3181076]\n",
            " [5.4979334]\n",
            " [5.1735997]\n",
            " [5.250246 ]\n",
            " [5.358073 ]\n",
            " [5.5625043]\n",
            " [7.5931067]\n",
            " [5.3600936]\n",
            " [6.3612566]\n",
            " [5.4747343]\n",
            " [5.9900665]\n",
            " [5.1715956]\n",
            " [5.1736073]\n",
            " [5.3793006]\n",
            " [5.354166 ]\n",
            " [5.4274383]\n",
            " [5.451921 ]\n",
            " [5.389223 ]\n",
            " [5.606092 ]\n",
            " [6.821378 ]\n",
            " [5.168048 ]\n",
            " [5.344553 ]\n",
            " [7.694006 ]\n",
            " [5.3461   ]\n",
            " [5.4541254]\n",
            " [5.2478204]\n",
            " [5.328685 ]\n",
            " [5.4023857]\n",
            " [5.2268715]\n",
            " [5.196462 ]\n",
            " [5.138973 ]\n",
            " [5.543201 ]\n",
            " [7.5937333]\n",
            " [5.2248445]\n",
            " [7.369591 ]\n",
            " [5.1675634]\n",
            " [7.9082294]\n",
            " [5.4233346]\n",
            " [5.3142705]\n",
            " [5.2157073]]\n"
          ]
        }
      ]
    },
    {
      "cell_type": "code",
      "source": [
        "model.evaluate(X_test_t)"
      ],
      "metadata": {
        "colab": {
          "base_uri": "https://localhost:8080/"
        },
        "id": "4OjEyMMF-dux",
        "outputId": "c67613f7-f3ec-4748-9606-6823e3e4589e"
      },
      "execution_count": 66,
      "outputs": [
        {
          "output_type": "stream",
          "name": "stdout",
          "text": [
            "4/4 [==============================] - 1s 5ms/step - loss: 0.0000e+00\n"
          ]
        },
        {
          "output_type": "execute_result",
          "data": {
            "text/plain": [
              "0.0"
            ]
          },
          "metadata": {},
          "execution_count": 66
        }
      ]
    },
    {
      "cell_type": "code",
      "source": [],
      "metadata": {
        "id": "5dBumahj-k21"
      },
      "execution_count": null,
      "outputs": []
    }
  ]
}